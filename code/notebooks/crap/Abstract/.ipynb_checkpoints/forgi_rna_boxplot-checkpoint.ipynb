{
 "cells": [
  {
   "cell_type": "code",
   "execution_count": 17,
   "metadata": {
    "collapsed": false
   },
   "outputs": [
    {
     "name": "stdout",
     "output_type": "stream",
     "text": [
      "The autoreload extension is already loaded. To reload it, use:\n",
      "  %reload_ext autoreload\n"
     ]
    }
   ],
   "source": [
    "%load_ext autoreload\n",
    "%autoreload 2"
   ]
  },
  {
   "cell_type": "code",
   "execution_count": 18,
   "metadata": {
    "collapsed": false,
    "scrolled": true
   },
   "outputs": [
    {
     "name": "stdout",
     "output_type": "stream",
     "text": [
      "/scratch/1/mautner/oldthings/examples/Abstract\r\n"
     ]
    }
   ],
   "source": [
    "from eden.util import configure_logging\n",
    "import logging\n",
    "configure_logging(logging.getLogger(),verbosity=1)\n",
    "%matplotlib inline\n",
    "!pwd\n",
    "\n",
    "# debug for sept 16.. \n",
    "DEBURG= True"
   ]
  },
  {
   "cell_type": "code",
   "execution_count": 19,
   "metadata": {
    "collapsed": false
   },
   "outputs": [],
   "source": [
    "'''\n",
    "GET RNA DATA\n",
    "'''\n",
    "from eden.converter.fasta import fasta_to_sequence\n",
    "import itertools\n",
    "from eden.util import random_bipartition_iter\n",
    "import random\n",
    "\n",
    "def rfam_uri(family_id):\n",
    "    return 'http://rfam.xfam.org/family/%s/alignment?acc=%s&format=fastau&download=0'%(family_id,family_id)\n",
    "def rfam_uri(family_id):\n",
    "    return '%s.fa'%(family_id)\n",
    " \n",
    "    \n",
    "    \n",
    "RFAM=\"RF01725\"\n",
    "#cutoff 162 (44.0)\n",
    "#cutoff 1725 (38.0)\n",
    "#cutoff rest (29)\n",
    "\n",
    "\n",
    "def get_sequences(size=9999,rand=False):\n",
    "    sequences = get_sequences_with_names(size=size,rand=rand)\n",
    "    return [ b for (a,b) in sequences ]\n",
    "\n",
    "def get_sequences_with_names(size=9999, rand=0):\n",
    "    it = fasta_to_sequence(\"../toolsdata/%s.fa\" % RFAM)\n",
    "    it = list(it)\n",
    "    if rand>0:\n",
    "        #sequences , boring = random_bipartition_iter(it,.9,random_state=random.random())\n",
    "        r=range(len(it))\n",
    "        random.shuffle(r)\n",
    "        return selection_iterator(it,r[:size])\n",
    "        #sequences = itertools.islice( sequences , size)\n",
    "    else:\n",
    "        sequences = itertools.islice(it, size)\n",
    "    return sequences\n",
    "\n",
    "\n"
   ]
  },
  {
   "cell_type": "code",
   "execution_count": null,
   "metadata": {
    "collapsed": false,
    "scrolled": false
   },
   "outputs": [],
   "source": []
  },
  {
   "cell_type": "code",
   "execution_count": 20,
   "metadata": {
    "collapsed": false,
    "scrolled": false
   },
   "outputs": [],
   "source": [
    "import random\n",
    "import graphlearn.abstract_graphs.RNA as rna\n",
    "from  graphlearn.feasibility import FeasibilityChecker as Checker\n",
    "from graphlearn.estimator import Wrapper as estimatorwrapper\n",
    "import graphlearn.utils.draw as draw\n",
    "from graphlearn.graphlearn import Sampler as GLS\n",
    "import itertools\n",
    "\n",
    "\n",
    "\n",
    "def fit_sample(graphs, random_state=random.random()):\n",
    "    '''\n",
    "    graphs -> more graphs\n",
    "    \n",
    "    graphs are pretty mich (NAME,SEQUENCE),()...\n",
    "    '''\n",
    "    \n",
    "    # fit a sampler\n",
    "    graphs = list(graphs)\n",
    "    estimator=estimatorwrapper( nu=.5, cv=2, n_jobs=-1) # with .5 it also works for the fewer ones.. \n",
    "    sampler=rna.AbstractSampler(radius_list=[0], # war 0,1\n",
    "                                thickness_list=[2], # war 2 \n",
    "                                min_cip_count=1, \n",
    "                                min_interface_count=2, \n",
    "                                preprocessor=rna.PreProcessor(base_thickness_list=[1],ignore_inserts=True), \n",
    "                                postprocessor=rna.PostProcessor(),\n",
    "                                estimator=estimator\n",
    "                                #feasibility_checker=feasibility\n",
    "                               )\n",
    "    sampler.fit(graphs,grammar_n_jobs=4,grammar_batch_size=1)\n",
    "        \n",
    "    #logger.info('graph grammar stats:')\n",
    "    dataset_size, interface_counts, core_counts, cip_counts = sampler.grammar().size()\n",
    "    #logger.info('#instances:%d   #interfaces: %d   #cores: %d   #core-interface-pairs: %d' % (dataset_size, interface_counts, core_counts, cip_counts))\n",
    "    \n",
    "    graphs = [ b for a ,b in graphs  ]\n",
    "    graphs = sampler.sample(graphs,\n",
    "                            n_samples=3,\n",
    "                            batch_size=1,\n",
    "                            n_steps=50,\n",
    "                            n_jobs=4,\n",
    "                            quick_skip_orig_cip=True,\n",
    "                            probabilistic_core_choice=True,\n",
    "                            burnin=10,\n",
    "                            improving_threshold=0.9,\n",
    "                            improving_linear_start=0.3,\n",
    "                            max_size_diff=20,\n",
    "                            accept_min_similarity=0.65,\n",
    "                            select_cip_max_tries=30,\n",
    "                            keep_duplicates=False,\n",
    "                            include_seed=False,\n",
    "                            backtrack=10,\n",
    "                            monitor=False)\n",
    "    \n",
    "    result=[]\n",
    "    for graphlist in graphs:\n",
    "        result+=graphlist\n",
    "    \n",
    "    #print 'one round done:) '\n",
    "    #draw.graphlearn(result)\n",
    "    \n",
    "    # note that this is a list [('',sequ),..]\n",
    "    r2=[]\n",
    "    for r in result:\n",
    "        r2.append(rna.get_sequence(r))\n",
    "    #print 'grgen result is rabun not was is documentedOo.',r2\n",
    "    return r2"
   ]
  },
  {
   "cell_type": "code",
   "execution_count": 21,
   "metadata": {
    "collapsed": false,
    "scrolled": true
   },
   "outputs": [],
   "source": [
    "import numpy as np\n",
    "def eval(repeats,size):\n",
    "    result=[]\n",
    "    for i in range(repeats):\n",
    "        graphs=get_sequences_with_names(size=size, rand=10)\n",
    "        zz=fit_sample(graphs)\n",
    "        #print zz[:3]\n",
    "        # z=[b for a ,b in zz]\n",
    "        result+=rna.infernal_checker(zz,cmfile='../%s.cm' % RFAM, cmsearchbinarypath='../toolsdata/cmsearch')\n",
    "        \n",
    "    a = np.array(result)\n",
    "    mean = np.mean(a, axis=0)\n",
    "    std = np.std(a, axis=0)\n",
    "    \n",
    "    print 'size:%d mean:%f std:%f' % (size,mean,std)\n",
    "    return [mean*100,std*100]\n",
    "    \n"
   ]
  },
  {
   "cell_type": "code",
   "execution_count": null,
   "metadata": {
    "collapsed": false,
    "scrolled": false
   },
   "outputs": [
    {
     "name": "stdout",
     "output_type": "stream",
     "text": [
      "size:5 mean:0.505048 std:0.051899\n",
      "size:10 mean:0.472340 std:0.100331\n",
      "size:15 mean:0.417366 std:0.171126\n",
      "size:20 mean:0.403746 std:0.115186\n"
     ]
    }
   ],
   "source": [
    "%%time\n",
    "import numpy as np\n",
    "import matplotlib.pyplot as plt\n",
    "\n",
    "\n",
    "def make_bar_plot(labels=('G1', 'G2', 'G3', 'G4', 'G5'),means=(20, 35, 30, 35, 27),stds=(2, 3, 4, 1, 2)):\n",
    "    N = len(labels)\n",
    "    ind = np.arange(N) \n",
    "    width = .5 #0.35\n",
    "    plt.figure(figsize=(14, 5))\n",
    "    ax = plt.subplot() \n",
    "    for label in (ax.get_xticklabels() + ax.get_yticklabels()):\n",
    "        label.set_fontname('Arial')\n",
    "        label.set_fontsize(18)\n",
    "        \n",
    "    p1 = plt.bar(ind, means, width, color='#69ACEA', yerr=stds,edgecolor='None',ecolor='#444444')\n",
    "    plt.axhline(y=38, color='black',linewidth=3)\n",
    "    plt.ylabel(\"log odds score\",fontsize=20)\n",
    "    plt.xlabel(\"number of graphs\",fontsize=20)\n",
    "    #plt.xlabel(\"number of graphs\",fontsize=20)\n",
    "    plt.title('Scores by training size',fontsize=20)\n",
    "    plt.xticks(ind + width/2, labels )\n",
    "    plt.yticks(np.arange(0, 100, 10))\n",
    "    plt.show()\n",
    "    \n",
    "sizes=[5,10,15,20,25,30]\n",
    "#sizes=[5,10] # debug so we can see the drawn graphs oOo \n",
    "sizes=[5,10,15,20,25]\n",
    "\n",
    "repeats=3\n",
    "means=[]\n",
    "stds=[]\n",
    "for size in sizes:\n",
    "    m,s=eval(repeats,size)\n",
    "    means.append(m)\n",
    "    stds.append(s)\n",
    "    \n",
    "    \n",
    "print 'size: ' + str(sizes)\n",
    "print 'means: ' + str(means)\n",
    "print 'stds: ' + str(stds)\n",
    "\n",
    "make_bar_plot(sizes,means,stds)\n",
    "\n"
   ]
  },
  {
   "cell_type": "code",
   "execution_count": 7,
   "metadata": {
    "collapsed": false
   },
   "outputs": [
    {
     "data": {
      "image/png": "[encoded data removed]",
      "text/plain": [
       "<matplotlib.figure.Figure at 0x7fdb4413ab50>"
      ]
     },
     "metadata": {},
     "output_type": "display_data"
    }
   ],
   "source": [
    "size= [5, 10, 15, 20, 25, 30]\n",
    "means= [55.87916666666667, 53.004999999999988, 48.495959595959597, 48.561904761904763, 50.952601156069363, 53.893212669683251]\n",
    "stds= [6.5170276434549148, 6.2872735214346536, 11.881935352270657, 12.467295993428371, 11.861150294030125, 11.309868317224636]\n",
    "size+=[50, 100, 200, 400]\n",
    "means+= [m*100 for m in [0.52533233532934065, 0.52810851648351664, 0.50501132578281116, 0.48380166112956]]\n",
    "stds+= [s*100 for s in [0.13776390146638864, 0.1357588381110848, 0.14529570300173117, 0.1549776798758424]]\n",
    "\n",
    "\n",
    "\n",
    "def make_bar_plot(labels=('G1', 'G2', 'G3', 'G4', 'G5'),means=(20, 35, 30, 35, 27),stds=(2, 3, 4, 1, 2)):\n",
    "    N = len(labels)\n",
    "    ind = np.arange(N) \n",
    "    width = .5 #0.35\n",
    "    plt.figure(figsize=(14, 5))\n",
    "    ax = plt.subplot() \n",
    "    for label in (ax.get_xticklabels() + ax.get_yticklabels()):\n",
    "        label.set_fontname('Arial')\n",
    "        label.set_fontsize(18)\n",
    "    \n",
    "    p1 = plt.bar(ind, means, width, color='#FF7B7B', yerr=stds)\n",
    "    plt.axhline(y=38, color='black',linewidth=3)\n",
    "    plt.ylabel(\"log odds score\",fontsize=20)\n",
    "    plt.xlabel(\"number of graphs\",fontsize=20)\n",
    "    #plt.xlabel(\"number of graphs\",fontsize=20)\n",
    "    plt.title('Scores by training size',fontsize=20)\n",
    "    plt.xticks(ind + width/2, labels )\n",
    "    plt.yticks(np.arange(0, 100, 10))\n",
    "    plt.show()\n",
    "    \n",
    "make_bar_plot(size,means,stds)\n"
   ]
  },
  {
   "cell_type": "code",
   "execution_count": 8,
   "metadata": {
    "collapsed": false
   },
   "outputs": [
    {
     "name": "stdout",
     "output_type": "stream",
     "text": [
      "/scratch/1/mautner/oldthings/EDeN/eden/__init__.pyc\n",
      "0.1\n"
     ]
    }
   ],
   "source": [
    "import eden\n",
    "print eden.__file__\n",
    "print eden.__version__"
   ]
  },
  {
   "cell_type": "code",
   "execution_count": 9,
   "metadata": {
    "collapsed": false
   },
   "outputs": [
    {
     "name": "stdout",
     "output_type": "stream",
     "text": [
      "/scratch/1/mautner/oldthings/EDeN:/scratch/1/mautner/oldthings::/home/mautner/GraphLearn:/home/mautner/my_eden:/home/mautner/LearnedLayer:/home/martners/minHashNearestNeighbors:/scratch/1/mautner/.local/lib/python2.7/site-packages:/home/mautner/GraphLearn:/home/mautner/my_eden:/home/mautner/LearnedLayer:/home/martners/minHashNearestNeighbors:/scratch/1/mautner/.local/lib/python2.7/site-packages\r\n"
     ]
    }
   ],
   "source": [
    "!echo $PYTHONPATH"
   ]
  },
  {
   "cell_type": "code",
   "execution_count": 10,
   "metadata": {
    "collapsed": false
   },
   "outputs": [
    {
     "data": {
      "image/png": "[encoded data removed]",
      "text/plain": [
       "<matplotlib.figure.Figure at 0x7fdb462bd6d0>"
      ]
     },
     "metadata": {},
     "output_type": "display_data"
    }
   ],
   "source": [
    "size= [5, 10, 15, 20, 25, 30]\n",
    "means= [55.87916666666667, 53.004999999999988, 48.495959595959597, 48.561904761904763, 50.952601156069363, 53.893212669683251]\n",
    "stds= [6.5170276434549148, 6.2872735214346536, 11.881935352270657, 12.467295993428371, 11.861150294030125, 11.309868317224636]\n",
    "size+=[50, 100, 200, 400]\n",
    "means+= [m*100 for m in [0.52533233532934065, 0.52810851648351664, 0.50501132578281116, 0.48380166112956]]\n",
    "stds+= [s*100 for s in [0.13776390146638864, 0.1357588381110848, 0.14529570300173117, 0.1549776798758424]]\n",
    "\n",
    "\n",
    "\n",
    "def make_bar_plot(labels=('G1', 'G2', 'G3', 'G4', 'G5'),means=(20, 35, 30, 35, 27),stds=(2, 3, 4, 1, 2)):\n",
    "    N = len(labels)\n",
    "    ind = np.arange(N) \n",
    "    width = .5 #0.35\n",
    "    plt.figure(figsize=(14, 5))\n",
    "    ax = plt.subplot() \n",
    "    for label in (ax.get_xticklabels() + ax.get_yticklabels()):\n",
    "        label.set_fontname('Arial')\n",
    "        label.set_fontsize(18)\n",
    "    \n",
    "    p1 = plt.bar(ind, means, width, color='#69ACEA', yerr=stds,edgecolor='None',ecolor='#444444')\n",
    "    plt.axhline(y=38, color='black',linewidth=3)\n",
    "    #ax.yaxis.grid(color='gray', linestyle='dashed')\n",
    "    plt.ylabel(\"log odds score\",fontsize=20)\n",
    "    plt.xlabel(\"number of graphs\",fontsize=20)\n",
    "    #plt.xlabel(\"number of graphs\",fontsize=20)\n",
    "    plt.title('Scores by training size',fontsize=20)\n",
    "    plt.xticks(ind + width/2, labels )\n",
    "    plt.yticks(np.arange(0, 100, 10))\n",
    "    plt.show()\n",
    "    \n",
    "make_bar_plot(size,means,stds)"
   ]
  },
  {
   "cell_type": "code",
   "execution_count": null,
   "metadata": {
    "collapsed": true
   },
   "outputs": [],
   "source": []
  }
 ],
 "metadata": {
  "kernelspec": {
   "display_name": "Python 2",
   "language": "python",
   "name": "python2"
  },
  "language_info": {
   "codemirror_mode": {
    "name": "ipython",
    "version": 2
   },
   "file_extension": ".py",
   "mimetype": "text/x-python",
   "name": "python",
   "nbconvert_exporter": "python",
   "pygments_lexer": "ipython2",
   "version": "2.7.12"
  }
 },
 "nbformat": 4,
 "nbformat_minor": 0
}
