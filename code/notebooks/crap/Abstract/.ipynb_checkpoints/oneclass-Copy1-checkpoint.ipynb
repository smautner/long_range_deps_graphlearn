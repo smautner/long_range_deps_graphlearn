{
 "cells": [
  {
   "cell_type": "code",
   "execution_count": 4,
   "metadata": {
    "collapsed": false
   },
   "outputs": [
    {
     "ename": "NameError",
     "evalue": "name 'x' is not defined",
     "output_type": "error",
     "traceback": [
      "\u001b[1;31m---------------------------------------------------------------------------\u001b[0m",
      "\u001b[1;31mNameError\u001b[0m                                 Traceback (most recent call last)",
      "\u001b[1;32m<ipython-input-4-4b3ca8604f1e>\u001b[0m in \u001b[0;36m<module>\u001b[1;34m()\u001b[0m\n\u001b[0;32m    107\u001b[0m \u001b[1;32mimport\u001b[0m \u001b[0mpylab\u001b[0m\u001b[1;33m\u001b[0m\u001b[0m\n\u001b[0;32m    108\u001b[0m \u001b[0mbars\u001b[0m \u001b[1;33m=\u001b[0m \u001b[0mpylab\u001b[0m\u001b[1;33m.\u001b[0m\u001b[0mbar\u001b[0m\u001b[1;33m(\u001b[0m\u001b[0mfracs\u001b[0m\u001b[1;33m,\u001b[0m \u001b[0mgoods\u001b[0m\u001b[1;33m,\u001b[0m \u001b[0mcolor\u001b[0m\u001b[1;33m=\u001b[0m\u001b[1;34m'#88aa33'\u001b[0m\u001b[1;33m,\u001b[0m \u001b[0malign\u001b[0m\u001b[1;33m=\u001b[0m\u001b[1;34m'center'\u001b[0m\u001b[1;33m)\u001b[0m\u001b[1;33m\u001b[0m\u001b[0m\n\u001b[1;32m--> 109\u001b[1;33m \u001b[0mline\u001b[0m \u001b[1;33m=\u001b[0m \u001b[0mpylab\u001b[0m\u001b[1;33m.\u001b[0m\u001b[0mplot\u001b[0m\u001b[1;33m(\u001b[0m\u001b[0mx\u001b[0m\u001b[1;33m,\u001b[0m \u001b[0mmeans\u001b[0m\u001b[1;33m,\u001b[0m \u001b[1;34m'bo-'\u001b[0m\u001b[1;33m)\u001b[0m\u001b[1;33m\u001b[0m\u001b[0m\n\u001b[0m",
      "\u001b[1;31mNameError\u001b[0m: name 'x' is not defined"
     ]
    }
   ],
   "source": [
    "\n",
    "from eden.util import configure_logging\n",
    "import logging\n",
    "configure_logging(logging.getLogger(),verbosity=1)\n",
    "'''\n",
    "GET READY \n",
    "'''\n",
    "SHAPEVERSION=3\n",
    "\n",
    "\n",
    "from eden.converter.fasta import fasta_to_sequence\n",
    "import itertools\n",
    "def rfam_uri(family_id):\n",
    "    return 'http://rfam.xfam.org/family/%s/alignment?acc=%s&format=fastau&download=0'%(family_id,family_id)\n",
    "def rfam_uri(family_id):\n",
    "    return '%s.fa'%(family_id)\n",
    " \n",
    "def get_graphss(rfam_id = '../toolsdata/RF00005'):\n",
    "    return fasta_to_sequence(rfam_uri(rfam_id))\n",
    "\n",
    "def get_graphs(rfam_id = '../toolsdata/RF00005', count=100):\n",
    "    for a,b in itertools.islice( get_graphss(rfam_id),count):\n",
    "        yield b\n",
    "\n",
    "from eden.converter.fasta import fasta_to_sequence\n",
    "def get_sequences(size=9999):\n",
    "    sequences = itertools.islice( fasta_to_sequence(\"../toolsdata/RF00005.fa\"), size)\n",
    "    return [ b for (a,b) in sequences ]\n",
    "\n",
    "def get_sequences_with_names(size=9999):\n",
    "    sequences = itertools.islice( fasta_to_sequence(\"../toolsdata/RF00005.fa\"), size)\n",
    "    return sequences\n",
    "\n",
    "\n",
    "# imports for later\n",
    "import graphlearn.abstract_graphs.RNA as rna\n",
    "from  graphlearn.feasibility import FeasibilityChecker as Checker\n",
    "from graphlearn.estimator import Wrapper\n",
    "import numpy\n",
    "from graphlearn.utils import evaltools\n",
    "from eden.util import random_bipartition_iter\n",
    "import random\n",
    "\n",
    "def oneclasstest_fraction(fraction=0.1,repeats=2):\n",
    "    # choosing some graphs, \n",
    "    # having array to save results\n",
    "    \n",
    "    repeatresgood=[]\n",
    "    repeatresstd=[]\n",
    " \n",
    "    for i in range(repeats):\n",
    "        badscores=[]\n",
    "        goodscores=[]\n",
    "        graphs = get_sequences_with_names(size=100)\n",
    "        graphs,not_used = random_bipartition_iter(graphs,fraction,random_state=random.random()*i*1000)\n",
    "\n",
    "        estimator=Wrapper( nu=.27, cv=3, n_jobs=-1,calibrate=True)\n",
    "        sampler=rna.AbstractSampler(radius_list=[0,1],\n",
    "                                    thickness_list=[2], \n",
    "                                    min_cip_count=1, \n",
    "                                    min_interface_count=2, \n",
    "                                    preprocessor=rna.PreProcessor(base_thickness_list=[1],ignore_inserts=True), \n",
    "                                    postprocessor=rna.PostProcessor(),\n",
    "                                    estimator=estimator)\n",
    "        sampler.preprocessor.set_param(sampler.vectorizer)\n",
    "        graphmanagers = sampler.preprocessor.fit_transform(graphs)\n",
    "        sampler.estimatorobject.fit(graphmanagers,vectorizer=sampler.vectorizer,\n",
    "                                    random_state=sampler.random_state)\n",
    "\n",
    "        #test\n",
    "        for graphman in graphmanagers:\n",
    "            struct = evaltools.dotbracket_to_shape(graphman.structure,shapesversion=SHAPEVERSION)\n",
    "            score =  sampler.estimatorobject.score(graphman)\n",
    "            if struct==\"[[][][]]\":\n",
    "                goodscores.append(score)\n",
    "            else:\n",
    "                badscores.append(score)\n",
    "                \n",
    "        \n",
    "        repeatresgood.append(numpy.mean(goodscores)/numpy.mean(badscores))\n",
    "        repeatresstd.append(numpy.std(goodscores+badscores))   \n",
    "        '''\n",
    "        print \"afraction=%f , instances=%f, good=%d , bad=%d\" % (fraction,fraction*923,len(goodscores),len(badscores))\n",
    "        a= numpy.array(badscores)\n",
    "        print 'bad:mean/std ',numpy.mean(a, axis=0),' ',numpy.std(a, axis=0)\n",
    "        \n",
    "        a= numpy.array(goodscores)\n",
    "        print 'cgood:mean/std ',numpy.mean(a, axis=0),' ',numpy.std(a, axis=0)\n",
    "        \n",
    "        a= numpy.array(goodscores+badscores)\n",
    "        print 'dbad+good:mean/std ',numpy.mean(a, axis=0),' ',numpy.std(a, axis=0)\n",
    "        print ''\n",
    "        '''\n",
    "    return numpy.mean(repeatresgood),numpy.mean(repeatresstd)\n",
    "        \n",
    "        \n",
    "        \n",
    "goods=[]\n",
    "means=[]\n",
    "fracs=range(2,11)\n",
    "         \n",
    "for frac in fracs:\n",
    "        fraction=frac*.1\n",
    "        good, mean = oneclasstest_fraction(fraction,repeats=5)\n",
    "        goods.append(good)\n",
    "        means.append(mean)\n",
    "import pylab\n",
    "bars = pylab.bar(fracs, goods, color='#88aa33', align='center')\n",
    "line = pylab.plot(x, means, 'bo-')"
   ]
  },
  {
   "cell_type": "code",
   "execution_count": 21,
   "metadata": {
    "collapsed": false
   },
   "outputs": [
    {
     "data": {
      "text/plain": [
       "<matplotlib.text.Text at 0x7f9bdbda0dd0>"
      ]
     },
     "execution_count": 21,
     "metadata": {},
     "output_type": "execute_result"
    },
    {
     "data": {
      "image/png": "[encoded data removed]",
      "text/plain": [
       "<matplotlib.figure.Figure at 0x7f9bd8e2c510>"
      ]
     },
     "metadata": {},
     "output_type": "display_data"
    }
   ],
   "source": [
    "import pylab\n",
    "%matplotlib inline\n",
    "#fracs=[f*10 for f in fracs]\n",
    "pylab.figure(figsize=(14, 7))\n",
    "bars = pylab.bar(fracs, goods, color='#88aa33', align='center',width=9)\n",
    "line = pylab.plot(fracs, means, 'bo-')\n",
    "pylab.ylabel('goodscore/badscore',fontsize=20)\n",
    "pylab.xlabel('graphs used',fontsize=20)\n",
    "pylab.title('One class SVM',fontsize=20)"
   ]
  },
  {
   "cell_type": "code",
   "execution_count": 7,
   "metadata": {
    "collapsed": false
   },
   "outputs": [
    {
     "name": "stdout",
     "output_type": "stream",
     "text": [
      "[2, 3, 4, 5, 6, 7, 8, 9, 10]\n",
      "[1.934687402297492, 1.7052750857022132, 2.3114325343110314, 1.3636574219026256, 1.8300367664529027, 1.7967481830998806, 1.7208706244569885, 1.5412711170471194, 1.4458838942135182]\n",
      "[0.29263143993330337, 0.31679271499884587, 0.31858564707995446, 0.27180992427249917, 0.35238675637796579, 0.34570123997205754, 0.35968415216091326, 0.32129456905503379, 0.34444982900587268]\n"
     ]
    }
   ],
   "source": [
    "print fracs\n",
    "print goods\n",
    "print means"
   ]
  },
  {
   "cell_type": "code",
   "execution_count": null,
   "metadata": {
    "collapsed": true
   },
   "outputs": [],
   "source": []
  }
 ],
 "metadata": {
  "kernelspec": {
   "display_name": "Python 2",
   "language": "python",
   "name": "python2"
  },
  "language_info": {
   "codemirror_mode": {
    "name": "ipython",
    "version": 2
   },
   "file_extension": ".py",
   "mimetype": "text/x-python",
   "name": "python",
   "nbconvert_exporter": "python",
   "pygments_lexer": "ipython2",
   "version": "2.7.9"
  }
 },
 "nbformat": 4,
 "nbformat_minor": 0
}
