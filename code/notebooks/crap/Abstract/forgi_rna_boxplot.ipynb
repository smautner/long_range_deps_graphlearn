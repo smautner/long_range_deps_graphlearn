{
 "cells": [
  {
   "cell_type": "code",
   "execution_count": 1,
   "metadata": {
    "collapsed": false
   },
   "outputs": [],
   "source": [
    "%load_ext autoreload\n",
    "%autoreload 2"
   ]
  },
  {
   "cell_type": "code",
   "execution_count": 2,
   "metadata": {
    "collapsed": false,
    "scrolled": true
   },
   "outputs": [
    {
     "name": "stdout",
     "output_type": "stream",
     "text": [
      "/scratch/1/mautner/oldthings/examples/Abstract\r\n"
     ]
    }
   ],
   "source": [
    "from eden.util import configure_logging\n",
    "import logging\n",
    "configure_logging(logging.getLogger(),verbosity=1)\n",
    "%matplotlib inline\n",
    "!pwd\n",
    "\n",
    "# debug for sept 16.. \n",
    "DEBURG= True"
   ]
  },
  {
   "cell_type": "code",
   "execution_count": 3,
   "metadata": {
    "collapsed": false
   },
   "outputs": [],
   "source": [
    "'''\n",
    "GET RNA DATA\n",
    "'''\n",
    "from eden.converter.fasta import fasta_to_sequence\n",
    "import itertools\n",
    "from eden.util import random_bipartition_iter,selection_iterator\n",
    "import random\n",
    "\n",
    "def rfam_uri(family_id):\n",
    "    return 'http://rfam.xfam.org/family/%s/alignment?acc=%s&format=fastau&download=0'%(family_id,family_id)\n",
    "def rfam_uri(family_id):\n",
    "    return '%s.fa'%(family_id)\n",
    "\n",
    "    \n",
    "    \n",
    "RFAM=\"RF01725\"\n",
    "#cutoff 162 (44.0)\n",
    "#cutoff 1725 (38.0)\n",
    "#cutoff rest (29)\n",
    "\n",
    "\n",
    "def get_sequences(size=9999,rand=False):\n",
    "    sequences = get_sequences_with_names(size=size,rand=rand)\n",
    "    return [ b for (a,b) in sequences ]\n",
    "\n",
    "def get_sequences_with_names(size=9999, rand=0):\n",
    "    it = fasta_to_sequence(\"../toolsdata/%s.fa\" % RFAM)\n",
    "    it = list(it)\n",
    "    if rand>0:\n",
    "        #sequences , boring = random_bipartition_iter(it,.9,random_state=random.random())\n",
    "        r=range(len(it))\n",
    "        random.shuffle(r)\n",
    "        return selection_iterator(it,r[:size])\n",
    "        #sequences = itertools.islice( sequences , size)\n",
    "    else:\n",
    "        sequences = itertools.islice(it, size)\n",
    "    return sequences\n",
    "\n",
    "\n"
   ]
  },
  {
   "cell_type": "code",
   "execution_count": null,
   "metadata": {
    "collapsed": false,
    "scrolled": false
   },
   "outputs": [],
   "source": []
  },
  {
   "cell_type": "code",
   "execution_count": null,
   "metadata": {
    "collapsed": true
   },
   "outputs": [],
   "source": []
  },
  {
   "cell_type": "code",
   "execution_count": 4,
   "metadata": {
    "collapsed": false,
    "scrolled": false
   },
   "outputs": [],
   "source": [
    "import random\n",
    "import graphlearn.abstract_graphs.RNA as rna\n",
    "from  graphlearn.feasibility import FeasibilityChecker as Checker\n",
    "from graphlearn.estimator import Wrapper as estimatorwrapper\n",
    "import graphlearn.utils.draw as draw\n",
    "from graphlearn.graphlearn import Sampler as GLS\n",
    "import itertools\n",
    "\n",
    "\n",
    "\n",
    "def fit_sample(graphs, random_state=random.random()):\n",
    "    '''\n",
    "    graphs -> more graphs\n",
    "    \n",
    "    graphs are pretty mich (NAME,SEQUENCE),()...\n",
    "    '''\n",
    "    \n",
    "    # fit a sampler\n",
    "    graphs = list(graphs)\n",
    "    estimator=estimatorwrapper( nu=.5, cv=2, n_jobs=-1) # with .5 it also works for the fewer ones.. \n",
    "    sampler=rna.AbstractSampler(radius_list=[0], # war 0,1\n",
    "                                thickness_list=[2], # war 2 \n",
    "                                min_cip_count=1, \n",
    "                                min_interface_count=2, \n",
    "                                preprocessor=rna.PreProcessor(base_thickness_list=[1],ignore_inserts=True), \n",
    "                                postprocessor=rna.PostProcessor(),\n",
    "                                estimator=estimator\n",
    "                                #feasibility_checker=feasibility\n",
    "                               )\n",
    "    sampler.fit(graphs,grammar_n_jobs=4,grammar_batch_size=1)\n",
    "        \n",
    "    #logger.info('graph grammar stats:')\n",
    "    dataset_size, interface_counts, core_counts, cip_counts = sampler.grammar().size()\n",
    "    #logger.info('#instances:%d   #interfaces: %d   #cores: %d   #core-interface-pairs: %d' % (dataset_size, interface_counts, core_counts, cip_counts))\n",
    "    \n",
    "    graphs = [ b for a ,b in graphs  ]\n",
    "    graphs = sampler.sample(graphs,\n",
    "                            n_samples=3,\n",
    "                            batch_size=1,\n",
    "                            n_steps=50,\n",
    "                            n_jobs=4,\n",
    "                            quick_skip_orig_cip=True,\n",
    "                            probabilistic_core_choice=True,\n",
    "                            burnin=10,\n",
    "                            improving_threshold=0.9,\n",
    "                            improving_linear_start=0.3,\n",
    "                            max_size_diff=20,\n",
    "                            accept_min_similarity=0.65,\n",
    "                            select_cip_max_tries=30,\n",
    "                            keep_duplicates=False,\n",
    "                            include_seed=False,\n",
    "                            backtrack=10,\n",
    "                            monitor=False)\n",
    "    \n",
    "    result=[]\n",
    "    for graphlist in graphs:\n",
    "        result+=graphlist\n",
    "    \n",
    "    #print 'one round done:) '\n",
    "    #draw.graphlearn(result)\n",
    "    \n",
    "    # note that this is a list [('',sequ),..]\n",
    "    r2=[]\n",
    "    for r in result:\n",
    "        r2.append(rna.get_sequence(r))\n",
    "    #print 'grgen result is rabun not was is documentedOo.',r2\n",
    "    return r2"
   ]
  },
  {
   "cell_type": "code",
   "execution_count": 7,
   "metadata": {
    "collapsed": false,
    "scrolled": true
   },
   "outputs": [],
   "source": [
    "import numpy as np\n",
    "def eval(repeats,size):\n",
    "    means=[]\n",
    "    stds=[]\n",
    "    for i in range(repeats):\n",
    "        \n",
    "        graphs=get_sequences_with_names(size=size, rand=10)\n",
    "        zz=fit_sample(graphs)\n",
    "        #print zz[:3]\n",
    "        # z=[b for a ,b in zz]\n",
    "        result=rna.infernal_checker(zz,cmfile='../%s.cm' % RFAM, cmsearchbinarypath='../toolsdata/cmsearch')\n",
    "        \n",
    "        a = np.array(result)\n",
    "        means.append( np.mean(a, axis=0) )\n",
    "        stds.append( np.std(a, axis=0) )\n",
    "    \n",
    "    means.sort()\n",
    "    stds.sort()\n",
    "    print 'eval::', (size,means,stds)\n",
    "    \n",
    "    return [means[2]*100,stds[2]*100]\n",
    "    \n"
   ]
  },
  {
   "cell_type": "code",
   "execution_count": 8,
   "metadata": {
    "collapsed": false,
    "scrolled": false
   },
   "outputs": [
    {
     "name": "stdout",
     "output_type": "stream",
     "text": [
      "eval:: (5, [0.60736363636363644, 0.61599999999999999, 0.62136363636363634, 0.63627272727272721, 0.63823076923076927], [0.073887808764529411, 0.081601126227846238, 0.097650836916092137, 0.10699532700076206, 0.10754387918618719])\n",
      "eval:: (10, [0.5056250000000001, 0.54435999999999996, 0.590608695652174, 0.59647826086956512, 0.62942857142857134], [0.10992002592020562, 0.11043833505780561, 0.12921760870717272, 0.1508255166871042, 0.17355494146907294])\n",
      "eval:: (15, [0.55478378378378368, 0.55882857142857145, 0.59124324324324318, 0.60992105263157881, 0.61482352941176477], [0.080276620958883022, 0.10407420163694162, 0.10566185572429646, 0.11751834943678471, 0.12130999716721622])\n",
      "eval:: (20, [0.5702978723404255, 0.57297826086956527, 0.59356521739130441, 0.59672727272727277, 0.59702631578947363], [0.10172363789263221, 0.10573215809865201, 0.11006177162293376, 0.12079680346984292, 0.13886206624004155])\n",
      "eval:: (25, [0.51031147540983612, 0.54471929824561394, 0.54547540983606546, 0.54988524590163934, 0.55288709677419345], [0.13746517968137251, 0.14737974796485923, 0.15360224133515821, 0.15970100556912714, 0.16154905337117137])\n",
      "eval:: (50, [0.4721707317073171, 0.47870833333333335, 0.4812727272727273, 0.49582786885245905, 0.51393220338983048], [0.15440244184496385, 0.15930390935940675, 0.16176321962463241, 0.17710911871091098, 0.17863082279014481])\n",
      "eval:: (100, [0.41984959349593498, 0.42040167364016739, 0.42320164609053496, 0.42471485943775095, 0.42767755102040816], [0.15758736685055583, 0.16319069420473459, 0.16549034787879474, 0.16736292626468996, 0.17556571840416871])\n",
      "eval:: (200, [0.39107246376811594, 0.39215303983228517, 0.39341200000000004, 0.39355040322580648, 0.40967689161554188], [0.16927563073063442, 0.16971837336010501, 0.17022669147866587, 0.17400842065031347, 0.17774717699923376])\n",
      "size: [5, 10, 15, 20, 25, 50, 100, 200]\n",
      "means: [62.136363636363633, 59.060869565217402, 59.12432432432432, 59.356521739130443, 54.547540983606545, 48.127272727272732, 42.320164609053492, 39.341200000000001]\n",
      "stds: [9.7650836916092132, 12.921760870717272, 10.566185572429646, 11.006177162293376, 15.360224133515821, 16.176321962463241, 16.549034787879474, 17.022669147866587]\n"
     ]
    },
    {
     "name": "stderr",
     "output_type": "stream",
     "text": [
      "/scratch/1/martners/.local/miniconda2/lib/python2.7/site-packages/matplotlib/font_manager.py:1288: UserWarning: findfont: Font family [u'Arial'] not found. Falling back to Bitstream Vera Sans\n",
      "  (prop.get_family(), self.defaultFamily[fontext]))\n"
     ]
    },
    {
     "data": {
      "image/png": "[encoded data removed]",
      "text/plain": [
       "<matplotlib.figure.Figure at 0x7f7dcfd3d250>"
      ]
     },
     "metadata": {},
     "output_type": "display_data"
    },
    {
     "name": "stdout",
     "output_type": "stream",
     "text": [
      "CPU times: user 6min, sys: 2min 7s, total: 8min 8s\n",
      "Wall time: 1h 43min 39s\n"
     ]
    }
   ],
   "source": [
    "%%time\n",
    "import numpy as np\n",
    "import matplotlib.pyplot as plt\n",
    "\n",
    "\n",
    "def make_bar_plot(labels=('G1', 'G2', 'G3', 'G4', 'G5'),means=(20, 35, 30, 35, 27),stds=(2, 3, 4, 1, 2)):\n",
    "    N = len(labels)\n",
    "    ind = np.arange(N) \n",
    "    width = .5 #0.35\n",
    "    plt.figure(figsize=(14, 5))\n",
    "    ax = plt.subplot() \n",
    "    for label in (ax.get_xticklabels() + ax.get_yticklabels()):\n",
    "        label.set_fontname('Arial')\n",
    "        label.set_fontsize(18)\n",
    "        \n",
    "    p1 = plt.bar(ind, means, width, color='#69ACEA', yerr=stds,edgecolor='None',ecolor='#444444')\n",
    "    plt.axhline(y=38, color='black',linewidth=3)\n",
    "    plt.ylabel(\"log odds score\",fontsize=20)\n",
    "    plt.xlabel(\"number of graphs\",fontsize=20)\n",
    "    #plt.xlabel(\"number of graphs\",fontsize=20)\n",
    "    plt.title('Scores by training size',fontsize=20)\n",
    "    plt.xticks(ind + width/2, labels )\n",
    "    plt.yticks(np.arange(0, 100, 10))\n",
    "    plt.show()\n",
    "    \n",
    "sizes=[5,10,15,20,25,50,100,200]\n",
    "#sizes=[5,10] # debug so we can see the drawn graphs oOo \n",
    "#sizes=[5,10,15,20,25]\n",
    "\n",
    "repeats=5\n",
    "means=[]\n",
    "stds=[]\n",
    "for size in sizes:\n",
    "    m,s=eval(repeats,size)\n",
    "    means.append(m)\n",
    "    stds.append(s)\n",
    "    \n",
    "    \n",
    "print 'size: ' + str(sizes)\n",
    "print 'means: ' + str(means)\n",
    "print 'stds: ' + str(stds)\n",
    "\n",
    "make_bar_plot(sizes,means,stds)\n",
    "\n"
   ]
  },
  {
   "cell_type": "code",
   "execution_count": null,
   "metadata": {
    "collapsed": false
   },
   "outputs": [],
   "source": [
    "size= [5, 10, 15, 20, 25, 30]\n",
    "means= [55.87916666666667, 53.004999999999988, 48.495959595959597, 48.561904761904763, 50.952601156069363, 53.893212669683251]\n",
    "stds= [6.5170276434549148, 6.2872735214346536, 11.881935352270657, 12.467295993428371, 11.861150294030125, 11.309868317224636]\n",
    "size+=[50, 100, 200, 400]\n",
    "means+= [m*100 for m in [0.52533233532934065, 0.52810851648351664, 0.50501132578281116, 0.48380166112956]]\n",
    "stds+= [s*100 for s in [0.13776390146638864, 0.1357588381110848, 0.14529570300173117, 0.1549776798758424]]\n",
    "\n",
    "\n",
    "\n",
    "def make_bar_plot(labels=('G1', 'G2', 'G3', 'G4', 'G5'),means=(20, 35, 30, 35, 27),stds=(2, 3, 4, 1, 2)):\n",
    "    N = len(labels)\n",
    "    ind = np.arange(N) \n",
    "    width = .5 #0.35\n",
    "    plt.figure(figsize=(14, 5))\n",
    "    ax = plt.subplot() \n",
    "    for label in (ax.get_xticklabels() + ax.get_yticklabels()):\n",
    "        label.set_fontname('Arial')\n",
    "        label.set_fontsize(18)\n",
    "    \n",
    "    p1 = plt.bar(ind, means, width, color='#FF7B7B', yerr=stds)\n",
    "    plt.axhline(y=38, color='black',linewidth=3)\n",
    "    plt.ylabel(\"log odds score\",fontsize=20)\n",
    "    plt.xlabel(\"number of graphs\",fontsize=20)\n",
    "    #plt.xlabel(\"number of graphs\",fontsize=20)\n",
    "    plt.title('Scores by training size',fontsize=20)\n",
    "    plt.xticks(ind + width/2, labels )\n",
    "    plt.yticks(np.arange(0, 100, 10))\n",
    "    plt.show()\n",
    "    \n",
    "make_bar_plot(size,means,stds)\n"
   ]
  },
  {
   "cell_type": "code",
   "execution_count": null,
   "metadata": {
    "collapsed": false
   },
   "outputs": [],
   "source": [
    "import eden\n",
    "print eden.__file__\n",
    "print eden.__version__"
   ]
  },
  {
   "cell_type": "code",
   "execution_count": null,
   "metadata": {
    "collapsed": false
   },
   "outputs": [],
   "source": [
    "!echo $PYTHONPATH"
   ]
  },
  {
   "cell_type": "code",
   "execution_count": null,
   "metadata": {
    "collapsed": false
   },
   "outputs": [],
   "source": [
    "size= [5, 10, 15, 20, 25, 30]\n",
    "means= [55.87916666666667, 53.004999999999988, 48.495959595959597, 48.561904761904763, 50.952601156069363, 53.893212669683251]\n",
    "stds= [6.5170276434549148, 6.2872735214346536, 11.881935352270657, 12.467295993428371, 11.861150294030125, 11.309868317224636]\n",
    "size+=[50, 100, 200, 400]\n",
    "means+= [m*100 for m in [0.52533233532934065, 0.52810851648351664, 0.50501132578281116, 0.48380166112956]]\n",
    "stds+= [s*100 for s in [0.13776390146638864, 0.1357588381110848, 0.14529570300173117, 0.1549776798758424]]\n",
    "\n",
    "\n",
    "\n",
    "def make_bar_plot(labels=('G1', 'G2', 'G3', 'G4', 'G5'),means=(20, 35, 30, 35, 27),stds=(2, 3, 4, 1, 2)):\n",
    "    N = len(labels)\n",
    "    ind = np.arange(N) \n",
    "    width = .5 #0.35\n",
    "    plt.figure(figsize=(14, 5))\n",
    "    ax = plt.subplot() \n",
    "    for label in (ax.get_xticklabels() + ax.get_yticklabels()):\n",
    "        label.set_fontname('Arial')\n",
    "        label.set_fontsize(18)\n",
    "    \n",
    "    p1 = plt.bar(ind, means, width, color='#69ACEA', yerr=stds,edgecolor='None',ecolor='#444444')\n",
    "    plt.axhline(y=38, color='black',linewidth=3)\n",
    "    #ax.yaxis.grid(color='gray', linestyle='dashed')\n",
    "    plt.ylabel(\"log odds score\",fontsize=20)\n",
    "    plt.xlabel(\"number of graphs\",fontsize=20)\n",
    "    #plt.xlabel(\"number of graphs\",fontsize=20)\n",
    "    plt.title('Scores by training size',fontsize=20)\n",
    "    plt.xticks(ind + width/2, labels )\n",
    "    plt.yticks(np.arange(0, 100, 10))\n",
    "    plt.show()\n",
    "    \n",
    "make_bar_plot(size,means,stds)"
   ]
  },
  {
   "cell_type": "code",
   "execution_count": null,
   "metadata": {
    "collapsed": true
   },
   "outputs": [],
   "source": []
  }
 ],
 "metadata": {
  "kernelspec": {
   "display_name": "Python 2",
   "language": "python",
   "name": "python2"
  },
  "language_info": {
   "codemirror_mode": {
    "name": "ipython",
    "version": 2
   },
   "file_extension": ".py",
   "mimetype": "text/x-python",
   "name": "python",
   "nbconvert_exporter": "python",
   "pygments_lexer": "ipython2",
   "version": "2.7.12"
  }
 },
 "nbformat": 4,
 "nbformat_minor": 0
}
