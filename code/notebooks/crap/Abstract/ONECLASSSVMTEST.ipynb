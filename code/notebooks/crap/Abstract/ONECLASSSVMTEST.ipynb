{
 "cells": [
  {
   "cell_type": "code",
   "execution_count": 5,
   "metadata": {
    "collapsed": false,
    "scrolled": false
   },
   "outputs": [
    {
     "name": "stdout",
     "output_type": "stream",
     "text": [
      "afraction=0.050000 , instances=46.150000, good=31 , bad=15\n",
      "bad:mean/std  0.354876955003   0.292545380381\n",
      "cgood:mean/std  0.908203682896   0.0434262376759\n",
      "dbad+good:mean/std  0.727771054235   0.310581049147\n",
      "\n",
      "afraction=0.050000 , instances=46.150000, good=34 , bad=12\n",
      "bad:mean/std  0.251922355768   0.285373473068\n",
      "cgood:mean/std  0.866642645427   0.105708070543\n",
      "dbad+good:mean/std  0.706280830734   0.319946305947\n",
      "\n",
      "afraction=0.050000 , instances=46.150000, good=29 , bad=17\n",
      "bad:mean/std  0.369462120274   0.284702397531\n",
      "cgood:mean/std  0.92223014636   0.0416923332098\n",
      "dbad+good:mean/std  0.717946310633   0.319751180879\n",
      "\n",
      "afraction=0.050000 , instances=46.150000, good=36 , bad=10\n",
      "bad:mean/std  0.150016536563   0.232128502558\n",
      "cgood:mean/std  0.853872750209   0.20539654493\n",
      "dbad+good:mean/std  0.700860529852   0.359188238022\n",
      "\n",
      "afraction=0.050000 , instances=46.150000, good=26 , bad=20\n",
      "bad:mean/std  0.41102982848   0.26927337632\n",
      "cgood:mean/std  0.936364286161   0.0360928282491\n",
      "dbad+good:mean/std  0.707958000213   0.31635715314\n",
      "\n"
     ]
    }
   ],
   "source": [
    "\n",
    "from eden.util import configure_logging\n",
    "import logging\n",
    "configure_logging(logging.getLogger(),verbosity=1)\n",
    "'''\n",
    "GET READY \n",
    "'''\n",
    "from eden.converter.fasta import fasta_to_sequence\n",
    "import itertools\n",
    "def rfam_uri(family_id):\n",
    "    return 'http://rfam.xfam.org/family/%s/alignment?acc=%s&format=fastau&download=0'%(family_id,family_id)\n",
    "def rfam_uri(family_id):\n",
    "    return '%s.fa'%(family_id)\n",
    " \n",
    "def get_graphss(rfam_id = '../toolsdata/RF00005'):\n",
    "    return fasta_to_sequence(rfam_uri(rfam_id))\n",
    "\n",
    "def get_graphs(rfam_id = '../toolsdata/RF00005', count=100):\n",
    "    for a,b in itertools.islice( get_graphss(rfam_id),count):\n",
    "        yield b\n",
    "\n",
    "from eden.converter.fasta import fasta_to_sequence\n",
    "def get_sequences(size=9999):\n",
    "    sequences = itertools.islice( fasta_to_sequence(\"../toolsdata/RF00005.fa\"), size)\n",
    "    return [ b for (a,b) in sequences ]\n",
    "\n",
    "def get_sequences_with_names(size=9999):\n",
    "    sequences = itertools.islice( fasta_to_sequence(\"../toolsdata/RF00005.fa\"), size)\n",
    "    return sequences\n",
    "\n",
    "\n",
    "# imports for later\n",
    "import graphlearn.abstract_graphs.RNA as rna\n",
    "from  graphlearn.feasibility import FeasibilityChecker as Checker\n",
    "from graphlearn.estimator import Wrapper\n",
    "import numpy\n",
    "from graphlearn.utils import evaltools\n",
    "from eden.util import random_bipartition_iter\n",
    "import random\n",
    "import networkx as nx\n",
    "class MyWrapper(Wrapper):\n",
    "    def unwrap(self,graphmanager):\n",
    "\n",
    "        if type(graphmanager)==nx.Graph or type(graphmanager)==nx.DiGraph:\n",
    "            graph=graphmanager.copy()\n",
    "\n",
    "        else:\n",
    "            graph = graphmanager.graph( nested=False  ).copy()\n",
    "\n",
    "        if type(graph) == nx.DiGraph:\n",
    "            graph=nx.Graph(graph)\n",
    "        return graph\n",
    "\n",
    "\n",
    "def wrap_fraction(fraction=0.1,repeats=2):\n",
    "    # choosing some graphs, \n",
    "    # having array to save results\n",
    "\n",
    "    \n",
    "    for i in range(repeats):\n",
    "        badscores=[]\n",
    "        goodscores=[]\n",
    "        graphs = get_sequences_with_names(size=923)\n",
    "        graphs,not_used = random_bipartition_iter(graphs,fraction,random_state=random.random()*i*1000)\n",
    "        estimator=MyWrapper( nu=.27, cv=3, n_jobs=-1)\n",
    "        sampler=rna.AbstractSampler(radius_list=[0,1],\n",
    "                                    thickness_list=[2], \n",
    "                                    min_cip_count=1, \n",
    "                                    min_interface_count=2, \n",
    "                                    preprocessor=rna.PreProcessor(base_thickness_list=[1],ignore_inserts=True), \n",
    "                                    postprocessor=rna.PostProcessor(),\n",
    "                                    estimator=estimator)\n",
    "        sampler.preprocessor.set_param(sampler.vectorizer)\n",
    "        graphmanagers = sampler.preprocessor.fit_transform(graphs)\n",
    "        sampler.estimatorobject.fit(graphmanagers,vectorizer=sampler.vectorizer,\n",
    "                                    random_state=sampler.random_state)\n",
    "\n",
    "        #test\n",
    "        for graphman in graphmanagers:\n",
    "            struct = evaltools.dotbracket_to_shape(graphman.structure,shapesversion=3)\n",
    "            score =  sampler.estimatorobject.score(graphman)\n",
    "            if struct==\"[[][][]]\":\n",
    "                goodscores.append(score)\n",
    "            else:\n",
    "                badscores.append(score)\n",
    "\n",
    "        print \"afraction=%f , instances=%f, good=%d , bad=%d\" % (fraction,fraction*923,len(goodscores),len(badscores))\n",
    "        a= numpy.array(badscores)\n",
    "        print 'bad:mean/std ',numpy.mean(a, axis=0),' ',numpy.std(a, axis=0)\n",
    "        \n",
    "        a= numpy.array(goodscores)\n",
    "        print 'cgood:mean/std ',numpy.mean(a, axis=0),' ',numpy.std(a, axis=0)\n",
    "        \n",
    "        a= numpy.array(goodscores+badscores)\n",
    "        print 'dbad+good:mean/std ',numpy.mean(a, axis=0),' ',numpy.std(a, axis=0)\n",
    "        print ''\n",
    "        \n",
    "        \n",
    "        \n",
    "wrap_fraction(fraction=0.05,repeats=5)\n",
    "        \n"
   ]
  },
  {
   "cell_type": "code",
   "execution_count": 4,
   "metadata": {
    "collapsed": false
   },
   "outputs": [
    {
     "name": "stdout",
     "output_type": "stream",
     "text": [
      "[1, 5, 9, 17]\n",
      "[3, 5, 9, 14]\n",
      "[1, 3, 7, 11]\n",
      "[5, 6, 10, 13]\n",
      "[0, 1, 7, 8]\n"
     ]
    }
   ],
   "source": [
    "from eden.util import random_bipartition_iter\n",
    "import random\n",
    "iterable=xrange(20)\n",
    "for a in range(5):\n",
    "    a,b=random_bipartition_iter(iterable, relative_size=.2, random_state=random.random())\n",
    "    print list(a)"
   ]
  },
  {
   "cell_type": "code",
   "execution_count": 15,
   "metadata": {
    "collapsed": false
   },
   "outputs": [
    {
     "data": {
      "text/plain": [
       "'[[]]'"
      ]
     },
     "execution_count": 15,
     "metadata": {},
     "output_type": "execute_result"
    }
   ],
   "source": [
    "evaltools.dotbracket_to_shape('(((...(((...))))))',shapesversion=3)"
   ]
  },
  {
   "cell_type": "code",
   "execution_count": null,
   "metadata": {
    "collapsed": true
   },
   "outputs": [],
   "source": []
  }
 ],
 "metadata": {
  "kernelspec": {
   "display_name": "Python 2",
   "language": "python",
   "name": "python2"
  },
  "language_info": {
   "codemirror_mode": {
    "name": "ipython",
    "version": 2
   },
   "file_extension": ".py",
   "mimetype": "text/x-python",
   "name": "python",
   "nbconvert_exporter": "python",
   "pygments_lexer": "ipython2",
   "version": "2.7.12"
  }
 },
 "nbformat": 4,
 "nbformat_minor": 0
}
