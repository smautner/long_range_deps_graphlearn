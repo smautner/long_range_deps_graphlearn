{
 "cells": [
  {
   "cell_type": "code",
   "execution_count": 2,
   "metadata": {
    "collapsed": false
   },
   "outputs": [],
   "source": [
    "%load_ext autoreload\n",
    "%autoreload 2\n",
    "%matplotlib inline\n",
    "import eden\n",
    "import Valium.sumsim as ss "
   ]
  },
  {
   "cell_type": "code",
   "execution_count": null,
   "metadata": {
    "collapsed": false
   },
   "outputs": [],
   "source": []
  },
  {
   "cell_type": "markdown",
   "metadata": {},
   "source": [
    "* sumsim.score() \n",
    "  * done\n",
    "\n",
    "* build random search thing\n",
    "  * first do the eval10 \n",
    "  * check its speed"
   ]
  },
  {
   "cell_type": "code",
   "execution_count": 3,
   "metadata": {
    "collapsed": false
   },
   "outputs": [],
   "source": [
    "\n",
    "defaultarg={}\n",
    "defaultarg['imp_thresh']=.3\n",
    "defaultarg['imp_lin_start']=.1\n",
    "defaultarg['maxsizediff']=10\n",
    "defaultarg['acc_min_sim']=.5\n",
    "defaultarg['n_samples']=3\n",
    "defaultarg['n_steps']=50\n",
    "defaultarg['quick_skip']=True\n",
    "defaultarg['core_choice']=True\n",
    "defaultarg['burnin']=10\n",
    "defaultarg['mincipcount']=2 \n",
    "defaultarg['mininterfacecount']=2 \n",
    "                      \n",
    "    \n",
    "import graphlearn.abstract_graphs.RNA as rna\n",
    "from graphlearn.estimator import Wrapper as estimatorwrapper\n",
    "\n",
    "from graphlearn.graphlearn import Sampler as GLS\n",
    "import random\n",
    "\n",
    "NJOBS=4\n",
    "\n",
    "def fit_sample(graphs, random_state=random.random(),arguments=defaultarg):\n",
    "    '''\n",
    "    graphs -> more graphs\n",
    "    arguments are generated above Oo\n",
    "    '''\n",
    "    #print 'i am the sampler and i use this: '\n",
    "    #print arguments\n",
    "    graphs = list(graphs)\n",
    "    estimator=estimatorwrapper( nu=.5, cv=2, n_jobs=NJOBS)\n",
    "    sampler=rna.AbstractSampler(radius_list=[0,1],\n",
    "                                thickness_list=[2], \n",
    "                                min_cip_count=arguments['mincipcount'], \n",
    "                                min_interface_count=arguments['mininterfacecount'], \n",
    "                                preprocessor=rna.PreProcessor(base_thickness_list=[1],\n",
    "                                    ignore_inserts=True), \n",
    "                                postprocessor=rna.PostProcessor(),\n",
    "                                estimator=estimator\n",
    "                                #feasibility_checker=feasibility\n",
    "                               )\n",
    "    sampler.fit(graphs,grammar_n_jobs=NJOBS,grammar_batch_size=1)\n",
    "    graphs = [ b for a ,b in graphs  ]\n",
    "    graphs = sampler.sample(graphs,\n",
    "                            n_samples=arguments['n_samples'],\n",
    "                            batch_size=1,\n",
    "                            n_steps=arguments['n_steps'],\n",
    "                            n_jobs=NJOBS,\n",
    "                            quick_skip_orig_cip=arguments['quick_skip'],\n",
    "                            probabilistic_core_choice=arguments['core_choice'],\n",
    "                            burnin=arguments['burnin'],\n",
    "                            improving_threshold=arguments['imp_thresh'],\n",
    "                            improving_linear_start=arguments['imp_lin_start'],\n",
    "                            max_size_diff=arguments['maxsizediff'],\n",
    "                            accept_min_similarity=arguments['acc_min_sim'],\n",
    "                            select_cip_max_tries=30,\n",
    "                            keep_duplicates=False,\n",
    "                            include_seed=False,\n",
    "                            backtrack=2,\n",
    "                            monitor=False)\n",
    "    result=[]\n",
    "    for graphlist in graphs:\n",
    "        result+=graphlist\n",
    "    # note that this is a list [('',sequ),..]\n",
    "    return result"
   ]
  },
  {
   "cell_type": "code",
   "execution_count": null,
   "metadata": {
    "collapsed": false,
    "scrolled": false
   },
   "outputs": [],
   "source": [
    "%%time\n",
    "import Valium.randset as rs\n",
    "\n",
    "import curve\n",
    "# das hier chillt in der curve rum\n",
    "def get_data():\n",
    "    return curve.get_seq_tups(fname='RF00005.fa',size=10,sizeb=50)\n",
    "\n",
    "def run_and_score(argz):\n",
    "    a,b= get_data()\n",
    "    b=fit_sample(a,arguments=argz)\n",
    "    a,b=ss.unpack(a,b)\n",
    "    print \"generated_seqs %d\" % len(b)\n",
    "    score = ss.score(a,b)\n",
    "    return score\n",
    "    \n",
    "\n",
    "def meaning(argz,num=9):\n",
    "    scores=[run_and_score(argz) for i in range(num)]\n",
    "    scores.sort()\n",
    "    #print scores\n",
    "    return scores[num/2]\n",
    "    \n",
    "    \n",
    "def zeloop():\n",
    "    currenthigh=0\n",
    "    while True:\n",
    "        argz=rs.get_random_params()\n",
    "        res=meaning(argz,num=3)\n",
    "        print res\n",
    "        if currenthigh < res:\n",
    "            currenthigh=res\n",
    "            print '\\n'+str(argz)\n",
    "\n",
    "\n",
    "zeloop()"
   ]
  },
  {
   "cell_type": "code",
   "execution_count": null,
   "metadata": {
    "collapsed": false
   },
   "outputs": [],
   "source": []
  },
  {
   "cell_type": "code",
   "execution_count": null,
   "metadata": {
    "collapsed": false
   },
   "outputs": [],
   "source": [
    "# ok so we need to do something about the random choosing of parameters\n",
    "\n",
    "from sklearn.model_selection import ParameterSampler\n",
    "from scipy.stats.distributions import uniform,randint\n",
    "import numpy as np\n",
    "import time\n",
    "np.random.seed()\n",
    "\n",
    "uniform(loc=4,scale=2) # default is something simething \n",
    "\n",
    "\n",
    "param_grid = {'a':randint(high=100,low=20), 'b':uniform(loc=4,scale=2) }\n",
    "\n",
    "\n",
    "param_list = list(ParameterSampler(param_grid, n_iter=4))\n",
    "\n",
    "#rounded_list = [dict((k, round(v, 6)) for (k, v) in d.items())\n",
    "#                 for d in param_list]\n",
    "\n",
    "print param_list"
   ]
  },
  {
   "cell_type": "code",
   "execution_count": null,
   "metadata": {
    "collapsed": false
   },
   "outputs": [],
   "source": [
    "import sklearn\n",
    "print sklearn.__version__\n",
    "print sklearn.__path__"
   ]
  },
  {
   "cell_type": "code",
   "execution_count": null,
   "metadata": {
    "collapsed": false,
    "scrolled": false
   },
   "outputs": [],
   "source": [
    "import Valium.randset as rs\n",
    "rs.get_random_params()\n",
    "#valium.randset.get_rangm_params()"
   ]
  },
  {
   "cell_type": "code",
   "execution_count": null,
   "metadata": {
    "collapsed": false,
    "scrolled": false
   },
   "outputs": [],
   "source": [
    "list(p)"
   ]
  },
  {
   "cell_type": "code",
   "execution_count": null,
   "metadata": {
    "collapsed": false
   },
   "outputs": [],
   "source": [
    "\n",
    "[-0.39702214422186499, -0.29200198556414503, -0.23544644219052113, -0.13913319572382932, -0.11955274813825978, -0.11006759906215913, -0.05867221251570709, 0.01196289322862687, 0.20323747543128967]\n",
    "m5: -0.119552748138\n",
    "0.203947871653 0.927714857333\n",
    "0.139414680807 0.912990709065\n",
    "0.10424604653 0.941974273617\n",
    "0.287574385355 0.943667989137\n",
    "0.223795121842 0.934594796208\n",
    "0.205923304653 0.915279232387\n",
    "0.107857802828 0.931537376288\n",
    "0.189992903937 0.907981206043\n",
    "0.216386939678 0.933742020397\n",
    "[-0.52499008749907328, -0.50010616497501248, -0.35533198583878145, -0.14800959029429872, -0.11192337072090097, -0.091586013774874075, -0.068194261686684743, -0.039414308840014622, 0.20662955228438296]\n",
    "m5: -0.111923370721\n",
    "0.13650855788 0.908668140188\n",
    "0.228852682033 0.93764202341\n",
    "0.227710276282 0.941995166114\n",
    "0.322031176057 0.924567909516\n",
    "0.181538174062 0.939154784505\n",
    "0.239671204923 0.93055542938\n",
    "0.419303811476 0.917646144177\n",
    "0.311784445087 0.932030003214\n",
    "0.0667663145754 0.926375601651\n",
    "[-0.65931034334969274, -0.36263390866736733, -0.21300208825780831, -0.031154060986744447, -0.022231295278711927, 0.028129390310982161, 0.31510777713386595, 0.36355679471031199, 0.75956910172750425]\n",
    "m5: -0.0222312952787\n",
    "0.182736163896 0.958142260911\n",
    "0.268660094246 0.931641134499\n",
    "0.241876309165 0.913429605546\n",
    "0.15328634145 0.881047984133\n",
    "0.320868355443 0.921035055245\n",
    "0.28817706666 0.902789980017\n",
    "0.22922674202 0.935997737627\n",
    "0.189631218289 0.933685388867\n",
    "0.248409415488 0.924973051808\n",
    "[-0.26790261833226769, -0.22719760532558175, -0.17516051571284641, -0.019090769545726527, 0.054075631112182054, 0.06866461014537284, 0.14299924248711982, 0.24991828662297733, 0.36243836652717221]\n",
    "m5: 0.0540756311122\n",
    "0.255023333164 0.91641407612\n",
    "0.287871690465 0.92326234863\n",
    "0.259961339886 0.935552165107\n",
    "0.431846144624 0.911242190043\n",
    "0.206478653277 0.942047827712\n",
    "0.106195180405 0.945608563674\n",
    "0.193675538782 0.909334659738\n",
    "0.287278638051 0.946230750258\n",
    "0.336137402611 0.905824553927\n",
    "[-0.52082784205479671, -0.13463250460820442, -0.11613321460216541, 0.10367925653823107, 0.10429319443732976, 0.20288380194740596, 0.22822441323201248, 0.43872505651701776, 0.81614238845271914]"
   ]
  },
  {
   "cell_type": "code",
   "execution_count": null,
   "metadata": {
    "collapsed": true
   },
   "outputs": [],
   "source": [
    "def avg(things):\n",
    "    return sum(things)/float(len(things))\n",
    "s=[-0.39702214422186499, -0.29200198556414503, -0.23544644219052113, -0.13913319572382932, -0.11955274813825978, -0.11006759906215913, -0.05867221251570709, 0.01196289322862687, 0.20323747543128967]\n",
    "#m5: -0.119552748138\n",
    "print avg(s)\n",
    "s=[-0.52499008749907328, -0.50010616497501248, -0.35533198583878145, -0.14800959029429872, -0.11192337072090097, -0.091586013774874075, -0.068194261686684743, -0.039414308840014622, 0.20662955228438296]\n",
    "#m5: -0.111923370721\n",
    "print avg(s)\n",
    "s=[-0.65931034334969274, -0.36263390866736733, -0.21300208825780831, -0.031154060986744447, -0.022231295278711927, 0.028129390310982161, 0.31510777713386595, 0.36355679471031199, 0.75956910172750425]\n",
    "#m5: -0.0222312952787\n",
    "print avg(s)\n",
    "s=[-0.26790261833226769, -0.22719760532558175, -0.17516051571284641, -0.019090769545726527, 0.054075631112182054, 0.06866461014537284, 0.14299924248711982, 0.24991828662297733, 0.36243836652717221]\n",
    "print avg(s)\n",
    "#m5: 0.0540756311122\n",
    "s=[-0.52082784205479671, -0.13463250460820442, -0.11613321460216541, 0.10367925653823107, 0.10429319443732976, 0.20288380194740596, 0.22822441323201248, 0.43872505651701776, 0.81614238845271914]\n",
    "print avg(s)"
   ]
  }
 ],
 "metadata": {
  "kernelspec": {
   "display_name": "Python 2",
   "language": "python",
   "name": "python2"
  },
  "language_info": {
   "codemirror_mode": {
    "name": "ipython",
    "version": 2
   },
   "file_extension": ".py",
   "mimetype": "text/x-python",
   "name": "python",
   "nbconvert_exporter": "python",
   "pygments_lexer": "ipython2",
   "version": "2.7.12"
  }
 },
 "nbformat": 4,
 "nbformat_minor": 1
}
