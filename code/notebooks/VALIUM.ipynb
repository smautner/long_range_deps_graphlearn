{
 "cells": [
  {
   "cell_type": "code",
   "execution_count": 1,
   "metadata": {
    "collapsed": false
   },
   "outputs": [
    {
     "name": "stderr",
     "output_type": "stream",
     "text": [
      "/home/ikea/.local/lib/python2.7/site-packages/matplotlib/font_manager.py:273: UserWarning: Matplotlib is building the font cache using fc-list. This may take a moment.\n",
      "  warnings.warn('Matplotlib is building the font cache using fc-list. This may take a moment.')\n",
      "/home/ikea/miniconda2/lib/python2.7/site-packages/sklearn/cross_validation.py:44: DeprecationWarning: This module was deprecated in version 0.18 in favor of the model_selection module into which all the refactored classes and functions are moved. Also note that the interface of the new CV iterators are different from that of this module. This module will be removed in 0.20.\n",
      "  \"This module will be removed in 0.20.\", DeprecationWarning)\n",
      "/home/ikea/miniconda2/lib/python2.7/site-packages/sklearn/grid_search.py:43: DeprecationWarning: This module was deprecated in version 0.18 in favor of the model_selection module into which all the refactored classes and functions are moved. This module will be removed in 0.20.\n",
      "  DeprecationWarning)\n"
     ]
    }
   ],
   "source": [
    "%load_ext autoreload\n",
    "%autoreload 2\n",
    "%matplotlib inline\n",
    "import eden\n",
    "import Valium.sumsim as ss "
   ]
  },
  {
   "cell_type": "code",
   "execution_count": null,
   "metadata": {
    "collapsed": false
   },
   "outputs": [],
   "source": []
  },
  {
   "cell_type": "markdown",
   "metadata": {},
   "source": [
    "* sumsim.score() \n",
    "  * done\n",
    "\n",
    "* build random search thing\n",
    "  * first do the eval10 \n",
    "  * check its speed"
   ]
  },
  {
   "cell_type": "code",
   "execution_count": 2,
   "metadata": {
    "collapsed": false
   },
   "outputs": [],
   "source": [
    "\n",
    "defaultarg={}\n",
    "defaultarg['imp_thresh']=.3\n",
    "defaultarg['imp_lin_start']=.1\n",
    "defaultarg['maxsizediff']=10\n",
    "defaultarg['acc_min_sim']=.5\n",
    "defaultarg['n_samples']=3\n",
    "defaultarg['n_steps']=50\n",
    "defaultarg['quick_skip']=True\n",
    "defaultarg['core_choice']=True\n",
    "defaultarg['burnin']=10\n",
    "defaultarg['mincipcount']=2 \n",
    "defaultarg['mininterfacecount']=2 \n",
    "                      \n",
    "    \n",
    "import graphlearn.abstract_graphs.RNA as rna\n",
    "from graphlearn.estimator import Wrapper as estimatorwrapper\n",
    "\n",
    "from graphlearn.graphlearn import Sampler as GLS\n",
    "import random\n",
    "\n",
    "NJOBS=1\n",
    "\n",
    "def fit_sample(graphs, random_state=random.random(),arguments=defaultarg):\n",
    "    '''\n",
    "    graphs -> more graphs\n",
    "    arguments are generated above Oo\n",
    "    '''\n",
    "    #print 'i am the sampler and i use this: '\n",
    "    #print arguments\n",
    "    graphs = list(graphs)\n",
    "    estimator=estimatorwrapper( nu=.5, cv=2, n_jobs=NJOBS)\n",
    "    sampler=rna.AbstractSampler(radius_list=[0,1],\n",
    "                                thickness_list=[2], \n",
    "                                min_cip_count=arguments['mincipcount'], \n",
    "                                min_interface_count=arguments['mininterfacecount'], \n",
    "                                preprocessor=rna.PreProcessor(base_thickness_list=[1],\n",
    "                                    ignore_inserts=True), \n",
    "                                postprocessor=rna.PostProcessor(),\n",
    "                                estimator=estimator\n",
    "                                #feasibility_checker=feasibility\n",
    "                               )\n",
    "    sampler.fit(graphs,grammar_n_jobs=NJOBS,grammar_batch_size=1)\n",
    "    graphs = [ b for a ,b in graphs  ]\n",
    "    graphs = sampler.sample(graphs,\n",
    "                            n_samples=arguments['n_samples'],\n",
    "                            batch_size=1,\n",
    "                            n_steps=arguments['n_steps'],\n",
    "                            n_jobs=NJOBS,\n",
    "                            quick_skip_orig_cip=arguments['quick_skip'],\n",
    "                            probabilistic_core_choice=arguments['core_choice'],\n",
    "                            burnin=arguments['burnin'],\n",
    "                            improving_threshold=arguments['imp_thresh'],\n",
    "                            improving_linear_start=arguments['imp_lin_start'],\n",
    "                            max_size_diff=arguments['maxsizediff'],\n",
    "                            accept_min_similarity=arguments['acc_min_sim'],\n",
    "                            select_cip_max_tries=30,\n",
    "                            keep_duplicates=False,\n",
    "                            include_seed=False,\n",
    "                            backtrack=2,\n",
    "                            monitor=False)\n",
    "    result=[]\n",
    "    for graphlist in graphs:\n",
    "        result+=graphlist\n",
    "    # note that this is a list [('',sequ),..]\n",
    "    return result"
   ]
  },
  {
   "cell_type": "code",
   "execution_count": 3,
   "metadata": {
    "collapsed": false,
    "scrolled": false
   },
   "outputs": [
    {
     "name": "stderr",
     "output_type": "stream",
     "text": [
      "/home/ikea/.local/lib/python2.7/site-packages/matplotlib/__init__.py:1357: UserWarning:  This call to matplotlib.use() has no effect\n",
      "because the backend has already been chosen;\n",
      "matplotlib.use() must be called *before* pylab, matplotlib.pyplot,\n",
      "or matplotlib.backends is imported for the first time.\n",
      "\n",
      "  warnings.warn(_use_error_msg)\n"
     ]
    },
    {
     "name": "stdout",
     "output_type": "stream",
     "text": [
      "[[ 0.57605068  1.          0.03300492  0.15936184  0.        ]\n",
      " [ 0.57605068  1.          0.03300492  0.15936184  0.        ]\n",
      " [ 0.03615508  0.03300492  1.          0.          0.05555556]\n",
      " [ 0.12523577  0.15936184  0.          1.          0.        ]\n",
      " [ 0.          0.          0.05555556  0.          1.        ]]\n"
     ]
    },
    {
     "ename": "TypeError",
     "evalue": "fit() got an unexpected keyword argument 'n_jobs'",
     "output_type": "error",
     "traceback": [
      "\u001b[0;31m---------------------------------------------------------------------------\u001b[0m",
      "\u001b[0;31mTypeError\u001b[0m                                 Traceback (most recent call last)",
      "\u001b[0;32m<ipython-input-3-62315dbe386d>\u001b[0m in \u001b[0;36m<module>\u001b[0;34m()\u001b[0m\n\u001b[0;32m----> 1\u001b[0;31m \u001b[0mget_ipython\u001b[0m\u001b[0;34m(\u001b[0m\u001b[0;34m)\u001b[0m\u001b[0;34m.\u001b[0m\u001b[0mrun_cell_magic\u001b[0m\u001b[0;34m(\u001b[0m\u001b[0;34mu'time'\u001b[0m\u001b[0;34m,\u001b[0m \u001b[0;34mu''\u001b[0m\u001b[0;34m,\u001b[0m \u001b[0;34mu'import Valium.randset as rs\\n\\nimport curve\\n# das hier chillt in der curve rum\\ndef get_data():\\n    return curve.get_seq_tups(fname=\\'RF00005.fa\\',size=10,sizeb=50)\\n\\ndef run_and_score(argz):\\n    a,b= get_data()\\n    b=fit_sample(a,arguments=argz)\\n    a,b=ss.unpack(a,b)\\n    print \"generated_seqs %d\" % len(b)\\n    score = ss.score(a,b)\\n    return score\\n    \\n\\ndef meaning(argz,num=9):\\n    scores=[run_and_score(argz) for i in range(num)]\\n    scores.sort()\\n    #print scores\\n    return scores[num/2]\\n    \\n    \\ndef zeloop():\\n    currenthigh=0\\n    while True:\\n        argz=rs.get_random_params()\\n        res=meaning(argz,num=1)\\n        print res\\n        if currenthigh < res:\\n            currenthigh=res\\n            print \\'\\\\n\\'+str(argz)\\n\\n\\nzeloop()\\n\\n#0.95 on single try: {\\'mininterfacecount\\': 2, \\'burnin\\': 8, \\'acc_min_sim\\': 0.35056045630513755, \\'imp_lin_start\\': 0.094488063143386425, \\'maxsizediff\\': 5, \\'imp_thresh\\': 0.75498425474899822, \\'mincipcount\\': 1, \\'core_choice\\': True, \\'n_samples\\': 4, \\'n_steps\\': 91, \\'quick_skip\\': True}'\u001b[0m\u001b[0;34m)\u001b[0m\u001b[0;34m\u001b[0m\u001b[0m\n\u001b[0m",
      "\u001b[0;32m/home/ikea/.local/lib/python2.7/site-packages/IPython/core/interactiveshell.pyc\u001b[0m in \u001b[0;36mrun_cell_magic\u001b[0;34m(self, magic_name, line, cell)\u001b[0m\n\u001b[1;32m   2113\u001b[0m             \u001b[0mmagic_arg_s\u001b[0m \u001b[0;34m=\u001b[0m \u001b[0mself\u001b[0m\u001b[0;34m.\u001b[0m\u001b[0mvar_expand\u001b[0m\u001b[0;34m(\u001b[0m\u001b[0mline\u001b[0m\u001b[0;34m,\u001b[0m \u001b[0mstack_depth\u001b[0m\u001b[0;34m)\u001b[0m\u001b[0;34m\u001b[0m\u001b[0m\n\u001b[1;32m   2114\u001b[0m             \u001b[0;32mwith\u001b[0m \u001b[0mself\u001b[0m\u001b[0;34m.\u001b[0m\u001b[0mbuiltin_trap\u001b[0m\u001b[0;34m:\u001b[0m\u001b[0;34m\u001b[0m\u001b[0m\n\u001b[0;32m-> 2115\u001b[0;31m                 \u001b[0mresult\u001b[0m \u001b[0;34m=\u001b[0m \u001b[0mfn\u001b[0m\u001b[0;34m(\u001b[0m\u001b[0mmagic_arg_s\u001b[0m\u001b[0;34m,\u001b[0m \u001b[0mcell\u001b[0m\u001b[0;34m)\u001b[0m\u001b[0;34m\u001b[0m\u001b[0m\n\u001b[0m\u001b[1;32m   2116\u001b[0m             \u001b[0;32mreturn\u001b[0m \u001b[0mresult\u001b[0m\u001b[0;34m\u001b[0m\u001b[0m\n\u001b[1;32m   2117\u001b[0m \u001b[0;34m\u001b[0m\u001b[0m\n",
      "\u001b[0;32m<decorator-gen-59>\u001b[0m in \u001b[0;36mtime\u001b[0;34m(self, line, cell, local_ns)\u001b[0m\n",
      "\u001b[0;32m/home/ikea/.local/lib/python2.7/site-packages/IPython/core/magic.pyc\u001b[0m in \u001b[0;36m<lambda>\u001b[0;34m(f, *a, **k)\u001b[0m\n\u001b[1;32m    186\u001b[0m     \u001b[0;31m# but it's overkill for just that one bit of state.\u001b[0m\u001b[0;34m\u001b[0m\u001b[0;34m\u001b[0m\u001b[0m\n\u001b[1;32m    187\u001b[0m     \u001b[0;32mdef\u001b[0m \u001b[0mmagic_deco\u001b[0m\u001b[0;34m(\u001b[0m\u001b[0marg\u001b[0m\u001b[0;34m)\u001b[0m\u001b[0;34m:\u001b[0m\u001b[0;34m\u001b[0m\u001b[0m\n\u001b[0;32m--> 188\u001b[0;31m         \u001b[0mcall\u001b[0m \u001b[0;34m=\u001b[0m \u001b[0;32mlambda\u001b[0m \u001b[0mf\u001b[0m\u001b[0;34m,\u001b[0m \u001b[0;34m*\u001b[0m\u001b[0ma\u001b[0m\u001b[0;34m,\u001b[0m \u001b[0;34m**\u001b[0m\u001b[0mk\u001b[0m\u001b[0;34m:\u001b[0m \u001b[0mf\u001b[0m\u001b[0;34m(\u001b[0m\u001b[0;34m*\u001b[0m\u001b[0ma\u001b[0m\u001b[0;34m,\u001b[0m \u001b[0;34m**\u001b[0m\u001b[0mk\u001b[0m\u001b[0;34m)\u001b[0m\u001b[0;34m\u001b[0m\u001b[0m\n\u001b[0m\u001b[1;32m    189\u001b[0m \u001b[0;34m\u001b[0m\u001b[0m\n\u001b[1;32m    190\u001b[0m         \u001b[0;32mif\u001b[0m \u001b[0mcallable\u001b[0m\u001b[0;34m(\u001b[0m\u001b[0marg\u001b[0m\u001b[0;34m)\u001b[0m\u001b[0;34m:\u001b[0m\u001b[0;34m\u001b[0m\u001b[0m\n",
      "\u001b[0;32m/home/ikea/.local/lib/python2.7/site-packages/IPython/core/magics/execution.pyc\u001b[0m in \u001b[0;36mtime\u001b[0;34m(self, line, cell, local_ns)\u001b[0m\n\u001b[1;32m   1178\u001b[0m         \u001b[0;32melse\u001b[0m\u001b[0;34m:\u001b[0m\u001b[0;34m\u001b[0m\u001b[0m\n\u001b[1;32m   1179\u001b[0m             \u001b[0mst\u001b[0m \u001b[0;34m=\u001b[0m \u001b[0mclock2\u001b[0m\u001b[0;34m(\u001b[0m\u001b[0;34m)\u001b[0m\u001b[0;34m\u001b[0m\u001b[0m\n\u001b[0;32m-> 1180\u001b[0;31m             \u001b[0;32mexec\u001b[0m\u001b[0;34m(\u001b[0m\u001b[0mcode\u001b[0m\u001b[0;34m,\u001b[0m \u001b[0mglob\u001b[0m\u001b[0;34m,\u001b[0m \u001b[0mlocal_ns\u001b[0m\u001b[0;34m)\u001b[0m\u001b[0;34m\u001b[0m\u001b[0m\n\u001b[0m\u001b[1;32m   1181\u001b[0m             \u001b[0mend\u001b[0m \u001b[0;34m=\u001b[0m \u001b[0mclock2\u001b[0m\u001b[0;34m(\u001b[0m\u001b[0;34m)\u001b[0m\u001b[0;34m\u001b[0m\u001b[0m\n\u001b[1;32m   1182\u001b[0m             \u001b[0mout\u001b[0m \u001b[0;34m=\u001b[0m \u001b[0mNone\u001b[0m\u001b[0;34m\u001b[0m\u001b[0m\n",
      "\u001b[0;32m<timed exec>\u001b[0m in \u001b[0;36m<module>\u001b[0;34m()\u001b[0m\n",
      "\u001b[0;32m<timed exec>\u001b[0m in \u001b[0;36mzeloop\u001b[0;34m()\u001b[0m\n",
      "\u001b[0;32m<timed exec>\u001b[0m in \u001b[0;36mmeaning\u001b[0;34m(argz, num)\u001b[0m\n",
      "\u001b[0;32m<timed exec>\u001b[0m in \u001b[0;36mrun_and_score\u001b[0;34m(argz)\u001b[0m\n",
      "\u001b[0;32m<ipython-input-2-3d24b24fcd38>\u001b[0m in \u001b[0;36mfit_sample\u001b[0;34m(graphs, random_state, arguments)\u001b[0m\n\u001b[1;32m     41\u001b[0m                                 \u001b[0;31m#feasibility_checker=feasibility\u001b[0m\u001b[0;34m\u001b[0m\u001b[0;34m\u001b[0m\u001b[0m\n\u001b[1;32m     42\u001b[0m                                )\n\u001b[0;32m---> 43\u001b[0;31m     \u001b[0msampler\u001b[0m\u001b[0;34m.\u001b[0m\u001b[0mfit\u001b[0m\u001b[0;34m(\u001b[0m\u001b[0mgraphs\u001b[0m\u001b[0;34m,\u001b[0m\u001b[0mgrammar_n_jobs\u001b[0m\u001b[0;34m=\u001b[0m\u001b[0mNJOBS\u001b[0m\u001b[0;34m,\u001b[0m\u001b[0mgrammar_batch_size\u001b[0m\u001b[0;34m=\u001b[0m\u001b[0;36m1\u001b[0m\u001b[0;34m)\u001b[0m\u001b[0;34m\u001b[0m\u001b[0m\n\u001b[0m\u001b[1;32m     44\u001b[0m     \u001b[0mgraphs\u001b[0m \u001b[0;34m=\u001b[0m \u001b[0;34m[\u001b[0m \u001b[0mb\u001b[0m \u001b[0;32mfor\u001b[0m \u001b[0ma\u001b[0m \u001b[0;34m,\u001b[0m\u001b[0mb\u001b[0m \u001b[0;32min\u001b[0m \u001b[0mgraphs\u001b[0m  \u001b[0;34m]\u001b[0m\u001b[0;34m\u001b[0m\u001b[0m\n\u001b[1;32m     45\u001b[0m     graphs = sampler.sample(graphs,\n",
      "\u001b[0;32m/home/ikea/nips2016/code/deps/GraphLearn/graphlearn/graphlearn.pyc\u001b[0m in \u001b[0;36mfit\u001b[0;34m(self, input, grammar_n_jobs, grammar_batch_size)\u001b[0m\n\u001b[1;32m    162\u001b[0m             self.estimatorobject.fit(graphmanagers,\n\u001b[1;32m    163\u001b[0m                                                       \u001b[0mvectorizer\u001b[0m\u001b[0;34m=\u001b[0m\u001b[0mself\u001b[0m\u001b[0;34m.\u001b[0m\u001b[0mvectorizer\u001b[0m\u001b[0;34m,\u001b[0m\u001b[0;34m\u001b[0m\u001b[0m\n\u001b[0;32m--> 164\u001b[0;31m                                                       random_state=self.random_state)\n\u001b[0m\u001b[1;32m    165\u001b[0m         \u001b[0mself\u001b[0m\u001b[0;34m.\u001b[0m\u001b[0mlsgg\u001b[0m\u001b[0;34m.\u001b[0m\u001b[0mfit\u001b[0m\u001b[0;34m(\u001b[0m\u001b[0mgraphmanagers\u001b[0m\u001b[0;34m,\u001b[0m \u001b[0mgrammar_n_jobs\u001b[0m\u001b[0;34m,\u001b[0m \u001b[0mbatch_size\u001b[0m\u001b[0;34m=\u001b[0m\u001b[0mgrammar_batch_size\u001b[0m\u001b[0;34m)\u001b[0m\u001b[0;34m\u001b[0m\u001b[0m\n\u001b[1;32m    166\u001b[0m         \u001b[0;32mreturn\u001b[0m \u001b[0mself\u001b[0m\u001b[0;34m\u001b[0m\u001b[0m\n",
      "\u001b[0;32m/home/ikea/nips2016/code/deps/GraphLearn/graphlearn/estimator.pyc\u001b[0m in \u001b[0;36mfit\u001b[0;34m(self, graphmanagers, vectorizer, random_state)\u001b[0m\n\u001b[1;32m     35\u001b[0m \u001b[0;34m\u001b[0m\u001b[0m\n\u001b[1;32m     36\u001b[0m         \u001b[0;31m# fit\u001b[0m\u001b[0;34m\u001b[0m\u001b[0;34m\u001b[0m\u001b[0m\n\u001b[0;32m---> 37\u001b[0;31m         \u001b[0mself\u001b[0m\u001b[0;34m.\u001b[0m\u001b[0mestimator\u001b[0m \u001b[0;34m=\u001b[0m \u001b[0mself\u001b[0m\u001b[0;34m.\u001b[0m\u001b[0mfit_estimator\u001b[0m\u001b[0;34m(\u001b[0m\u001b[0mdata_matrix\u001b[0m\u001b[0;34m,\u001b[0m \u001b[0mn_jobs\u001b[0m\u001b[0;34m=\u001b[0m\u001b[0mself\u001b[0m\u001b[0;34m.\u001b[0m\u001b[0mn_jobs\u001b[0m\u001b[0;34m,\u001b[0m \u001b[0mcv\u001b[0m\u001b[0;34m=\u001b[0m\u001b[0mself\u001b[0m\u001b[0;34m.\u001b[0m\u001b[0mcv\u001b[0m\u001b[0;34m,\u001b[0m \u001b[0mrandom_state\u001b[0m\u001b[0;34m=\u001b[0m\u001b[0mrandom_state\u001b[0m\u001b[0;34m)\u001b[0m\u001b[0;34m\u001b[0m\u001b[0m\n\u001b[0m\u001b[1;32m     38\u001b[0m \u001b[0;34m\u001b[0m\u001b[0m\n\u001b[1;32m     39\u001b[0m         \u001b[0;31m# calibrate\u001b[0m\u001b[0;34m\u001b[0m\u001b[0;34m\u001b[0m\u001b[0m\n",
      "\u001b[0;32m/home/ikea/nips2016/code/deps/GraphLearn/graphlearn/estimator.pyc\u001b[0m in \u001b[0;36mfit_estimator\u001b[0;34m(self, data_matrix, n_jobs, cv, random_state)\u001b[0m\n\u001b[1;32m     86\u001b[0m                                   \u001b[0mn_jobs\u001b[0m\u001b[0;34m=\u001b[0m\u001b[0mn_jobs\u001b[0m\u001b[0;34m,\u001b[0m\u001b[0;34m\u001b[0m\u001b[0m\n\u001b[1;32m     87\u001b[0m                                   \u001b[0mn_iter_search\u001b[0m\u001b[0;34m=\u001b[0m\u001b[0;36m10\u001b[0m\u001b[0;34m,\u001b[0m\u001b[0;34m\u001b[0m\u001b[0m\n\u001b[0;32m---> 88\u001b[0;31m                                   random_state=random_state)\n\u001b[0m\u001b[1;32m     89\u001b[0m \u001b[0;34m\u001b[0m\u001b[0m\n\u001b[1;32m     90\u001b[0m     \u001b[0;32mdef\u001b[0m \u001b[0mcalibrate_estimator\u001b[0m\u001b[0;34m(\u001b[0m\u001b[0mself\u001b[0m\u001b[0;34m,\u001b[0m \u001b[0mdata_matrix\u001b[0m\u001b[0;34m,\u001b[0m \u001b[0mestimator\u001b[0m\u001b[0;34m=\u001b[0m\u001b[0mNone\u001b[0m\u001b[0;34m,\u001b[0m \u001b[0mnu\u001b[0m\u001b[0;34m=\u001b[0m\u001b[0;36m.5\u001b[0m\u001b[0;34m,\u001b[0m \u001b[0mcv\u001b[0m\u001b[0;34m=\u001b[0m\u001b[0;36m2\u001b[0m\u001b[0;34m)\u001b[0m\u001b[0;34m:\u001b[0m\u001b[0;34m\u001b[0m\u001b[0m\n",
      "\u001b[0;32m/home/ikea/nips2016/code/deps/EDeN/eden/util/__init__.pyc\u001b[0m in \u001b[0;36mfit_estimator\u001b[0;34m(estimator, positive_data_matrix, negative_data_matrix, target, cv, n_jobs, n_iter_search, random_state)\u001b[0m\n\u001b[1;32m    306\u001b[0m                             target=target)\n\u001b[1;32m    307\u001b[0m \u001b[0;34m\u001b[0m\u001b[0m\n\u001b[0;32m--> 308\u001b[0;31m     \u001b[0mrandom_search\u001b[0m\u001b[0;34m.\u001b[0m\u001b[0mfit\u001b[0m\u001b[0;34m(\u001b[0m\u001b[0mX\u001b[0m\u001b[0;34m,\u001b[0m \u001b[0my\u001b[0m\u001b[0;34m,\u001b[0m \u001b[0mn_jobs\u001b[0m\u001b[0;34m=\u001b[0m\u001b[0mn_jobs\u001b[0m\u001b[0;34m)\u001b[0m\u001b[0;34m\u001b[0m\u001b[0m\n\u001b[0m\u001b[1;32m    309\u001b[0m \u001b[0;34m\u001b[0m\u001b[0m\n\u001b[1;32m    310\u001b[0m     \u001b[0mlogger\u001b[0m\u001b[0;34m.\u001b[0m\u001b[0mdebug\u001b[0m\u001b[0;34m(\u001b[0m\u001b[0;34m'\\nClassifier:'\u001b[0m\u001b[0;34m)\u001b[0m\u001b[0;34m\u001b[0m\u001b[0m\n",
      "\u001b[0;31mTypeError\u001b[0m: fit() got an unexpected keyword argument 'n_jobs'"
     ]
    }
   ],
   "source": [
    "%%time\n",
    "import Valium.randset as rs\n",
    "\n",
    "import curve\n",
    "# das hier chillt in der curve rum\n",
    "def get_data():\n",
    "    return curve.get_seq_tups(fname='RF00005.fa',size=10,sizeb=50)\n",
    "\n",
    "def run_and_score(argz):\n",
    "    a,b= get_data()\n",
    "    b=fit_sample(a,arguments=argz)\n",
    "    a,b=ss.unpack(a,b)\n",
    "    print \"generated_seqs %d\" % len(b)\n",
    "    score = ss.score(a,b)\n",
    "    return score\n",
    "    \n",
    "\n",
    "def meaning(argz,num=9):\n",
    "    scores=[run_and_score(argz) for i in range(num)]\n",
    "    scores.sort()\n",
    "    #print scores\n",
    "    return scores[num/2]\n",
    "    \n",
    "    \n",
    "def zeloop():\n",
    "    currenthigh=0\n",
    "    while True:\n",
    "        argz=rs.get_random_params()\n",
    "        res=meaning(argz,num=1)\n",
    "        print res\n",
    "        if currenthigh < res:\n",
    "            currenthigh=res\n",
    "            print '\\n'+str(argz)\n",
    "\n",
    "\n",
    "zeloop()\n",
    "\n",
    "#0.95 on single try: {'mininterfacecount': 2, 'burnin': 8, 'acc_min_sim': 0.35056045630513755, 'imp_lin_start': 0.094488063143386425, 'maxsizediff': 5, 'imp_thresh': 0.75498425474899822, 'mincipcount': 1, 'core_choice': True, 'n_samples': 4, 'n_steps': 91, 'quick_skip': True}"
   ]
  },
  {
   "cell_type": "code",
   "execution_count": null,
   "metadata": {
    "collapsed": false
   },
   "outputs": [],
   "source": []
  },
  {
   "cell_type": "code",
   "execution_count": null,
   "metadata": {
    "collapsed": false
   },
   "outputs": [],
   "source": [
    "# ok so we need to do something about the random choosing of parameters\n",
    "\n",
    "from sklearn.model_selection import ParameterSampler\n",
    "from scipy.stats.distributions import uniform,randint\n",
    "import numpy as np\n",
    "import time\n",
    "np.random.seed()\n",
    "\n",
    "uniform(loc=4,scale=2) # default is something simething \n",
    "\n",
    "\n",
    "param_grid = {'a':randint(high=100,low=20), 'b':uniform(loc=4,scale=2) }\n",
    "\n",
    "\n",
    "param_list = list(ParameterSampler(param_grid, n_iter=4))\n",
    "\n",
    "#rounded_list = [dict((k, round(v, 6)) for (k, v) in d.items())\n",
    "#                 for d in param_list]\n",
    "\n",
    "print param_list"
   ]
  },
  {
   "cell_type": "code",
   "execution_count": null,
   "metadata": {
    "collapsed": false
   },
   "outputs": [],
   "source": [
    "import sklearn\n",
    "print sklearn.__version__\n",
    "print sklearn.__path__"
   ]
  },
  {
   "cell_type": "code",
   "execution_count": null,
   "metadata": {
    "collapsed": false,
    "scrolled": false
   },
   "outputs": [],
   "source": [
    "import Valium.randset as rs\n",
    "rs.get_random_params()\n",
    "#valium.randset.get_rangm_params()"
   ]
  },
  {
   "cell_type": "code",
   "execution_count": null,
   "metadata": {
    "collapsed": false,
    "scrolled": false
   },
   "outputs": [],
   "source": [
    "list(p)"
   ]
  },
  {
   "cell_type": "code",
   "execution_count": null,
   "metadata": {
    "collapsed": false
   },
   "outputs": [],
   "source": [
    "\n",
    "[-0.39702214422186499, -0.29200198556414503, -0.23544644219052113, -0.13913319572382932, -0.11955274813825978, -0.11006759906215913, -0.05867221251570709, 0.01196289322862687, 0.20323747543128967]\n",
    "m5: -0.119552748138\n",
    "0.203947871653 0.927714857333\n",
    "0.139414680807 0.912990709065\n",
    "0.10424604653 0.941974273617\n",
    "0.287574385355 0.943667989137\n",
    "0.223795121842 0.934594796208\n",
    "0.205923304653 0.915279232387\n",
    "0.107857802828 0.931537376288\n",
    "0.189992903937 0.907981206043\n",
    "0.216386939678 0.933742020397\n",
    "[-0.52499008749907328, -0.50010616497501248, -0.35533198583878145, -0.14800959029429872, -0.11192337072090097, -0.091586013774874075, -0.068194261686684743, -0.039414308840014622, 0.20662955228438296]\n",
    "m5: -0.111923370721\n",
    "0.13650855788 0.908668140188\n",
    "0.228852682033 0.93764202341\n",
    "0.227710276282 0.941995166114\n",
    "0.322031176057 0.924567909516\n",
    "0.181538174062 0.939154784505\n",
    "0.239671204923 0.93055542938\n",
    "0.419303811476 0.917646144177\n",
    "0.311784445087 0.932030003214\n",
    "0.0667663145754 0.926375601651\n",
    "[-0.65931034334969274, -0.36263390866736733, -0.21300208825780831, -0.031154060986744447, -0.022231295278711927, 0.028129390310982161, 0.31510777713386595, 0.36355679471031199, 0.75956910172750425]\n",
    "m5: -0.0222312952787\n",
    "0.182736163896 0.958142260911\n",
    "0.268660094246 0.931641134499\n",
    "0.241876309165 0.913429605546\n",
    "0.15328634145 0.881047984133\n",
    "0.320868355443 0.921035055245\n",
    "0.28817706666 0.902789980017\n",
    "0.22922674202 0.935997737627\n",
    "0.189631218289 0.933685388867\n",
    "0.248409415488 0.924973051808\n",
    "[-0.26790261833226769, -0.22719760532558175, -0.17516051571284641, -0.019090769545726527, 0.054075631112182054, 0.06866461014537284, 0.14299924248711982, 0.24991828662297733, 0.36243836652717221]\n",
    "m5: 0.0540756311122\n",
    "0.255023333164 0.91641407612\n",
    "0.287871690465 0.92326234863\n",
    "0.259961339886 0.935552165107\n",
    "0.431846144624 0.911242190043\n",
    "0.206478653277 0.942047827712\n",
    "0.106195180405 0.945608563674\n",
    "0.193675538782 0.909334659738\n",
    "0.287278638051 0.946230750258\n",
    "0.336137402611 0.905824553927\n",
    "[-0.52082784205479671, -0.13463250460820442, -0.11613321460216541, 0.10367925653823107, 0.10429319443732976, 0.20288380194740596, 0.22822441323201248, 0.43872505651701776, 0.81614238845271914]"
   ]
  },
  {
   "cell_type": "code",
   "execution_count": null,
   "metadata": {
    "collapsed": true
   },
   "outputs": [],
   "source": [
    "def avg(things):\n",
    "    return sum(things)/float(len(things))\n",
    "s=[-0.39702214422186499, -0.29200198556414503, -0.23544644219052113, -0.13913319572382932, -0.11955274813825978, -0.11006759906215913, -0.05867221251570709, 0.01196289322862687, 0.20323747543128967]\n",
    "#m5: -0.119552748138\n",
    "print avg(s)\n",
    "s=[-0.52499008749907328, -0.50010616497501248, -0.35533198583878145, -0.14800959029429872, -0.11192337072090097, -0.091586013774874075, -0.068194261686684743, -0.039414308840014622, 0.20662955228438296]\n",
    "#m5: -0.111923370721\n",
    "print avg(s)\n",
    "s=[-0.65931034334969274, -0.36263390866736733, -0.21300208825780831, -0.031154060986744447, -0.022231295278711927, 0.028129390310982161, 0.31510777713386595, 0.36355679471031199, 0.75956910172750425]\n",
    "#m5: -0.0222312952787\n",
    "print avg(s)\n",
    "s=[-0.26790261833226769, -0.22719760532558175, -0.17516051571284641, -0.019090769545726527, 0.054075631112182054, 0.06866461014537284, 0.14299924248711982, 0.24991828662297733, 0.36243836652717221]\n",
    "print avg(s)\n",
    "#m5: 0.0540756311122\n",
    "s=[-0.52082784205479671, -0.13463250460820442, -0.11613321460216541, 0.10367925653823107, 0.10429319443732976, 0.20288380194740596, 0.22822441323201248, 0.43872505651701776, 0.81614238845271914]\n",
    "print avg(s)"
   ]
  }
 ],
 "metadata": {
  "kernelspec": {
   "display_name": "Python 2",
   "language": "python",
   "name": "python2"
  },
  "language_info": {
   "codemirror_mode": {
    "name": "ipython",
    "version": 2
   },
   "file_extension": ".py",
   "mimetype": "text/x-python",
   "name": "python",
   "nbconvert_exporter": "python",
   "pygments_lexer": "ipython2",
   "version": "2.7.12"
  }
 },
 "nbformat": 4,
 "nbformat_minor": 1
}
