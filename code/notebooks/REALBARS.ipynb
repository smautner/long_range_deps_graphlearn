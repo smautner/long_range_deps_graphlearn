{
 "cells": [
  {
   "cell_type": "code",
   "execution_count": 1,
   "metadata": {
    "collapsed": false
   },
   "outputs": [
    {
     "name": "stderr",
     "output_type": "stream",
     "text": [
      "/home/ikea/.local/lib/python2.7/site-packages/matplotlib/font_manager.py:273: UserWarning: Matplotlib is building the font cache using fc-list. This may take a moment.\n",
      "  warnings.warn('Matplotlib is building the font cache using fc-list. This may take a moment.')\n",
      "/home/ikea/miniconda2/lib/python2.7/site-packages/sklearn/cross_validation.py:44: DeprecationWarning: This module was deprecated in version 0.18 in favor of the model_selection module into which all the refactored classes and functions are moved. Also note that the interface of the new CV iterators are different from that of this module. This module will be removed in 0.20.\n",
      "  \"This module will be removed in 0.20.\", DeprecationWarning)\n",
      "/home/ikea/miniconda2/lib/python2.7/site-packages/sklearn/grid_search.py:43: DeprecationWarning: This module was deprecated in version 0.18 in favor of the model_selection module into which all the refactored classes and functions are moved. This module will be removed in 0.20.\n",
      "  DeprecationWarning)\n"
     ]
    }
   ],
   "source": [
    "%load_ext autoreload\n",
    "%autoreload 2\n",
    "%matplotlib inline\n",
    "from eden.util import configure_logging\n",
    "import logging\n",
    "configure_logging(logging.getLogger(),verbosity=1) "
   ]
  },
  {
   "cell_type": "code",
   "execution_count": 2,
   "metadata": {
    "collapsed": false
   },
   "outputs": [],
   "source": [
    "'''\n",
    "GET RNA DATA\n",
    "'''\n",
    "from eden.converter.fasta import fasta_to_sequence\n",
    "import itertools\n",
    "from eden.util import random_bipartition_iter,selection_iterator\n",
    "import random\n",
    "\n",
    "def rfam_uri(family_id):\n",
    "    return 'http://rfam.xfam.org/family/%s/alignment?acc=%s&format=fastau&download=0'%(family_id,family_id)\n",
    "def rfam_uri(family_id):\n",
    "    return '%s.fa'%(family_id)\n",
    "\n",
    "\n",
    "RFAM=\"RF01725\"\n",
    "#cutoff 162 (44.0)\n",
    "#cutoff 1725 (38.0)\n",
    "#cutoff rest (29)\n",
    "\n",
    "\n",
    "def get_sequences_with_names(size=9999, rand=True):\n",
    "    it = fasta_to_sequence(\"../toolsdata/%s.fa\" % RFAM)\n",
    "    it = list(it)\n",
    "    if rand:\n",
    "        #sequences , boring = random_bipartition_iter(it,.9,random_state=random.random())\n",
    "        r=range(len(it))\n",
    "        random.shuffle(r)\n",
    "        return selection_iterator(it,r[:size])\n",
    "    else:\n",
    "        sequences = itertools.islice(it, size)\n",
    "    return sequences\n"
   ]
  },
  {
   "cell_type": "code",
   "execution_count": 3,
   "metadata": {
    "collapsed": false,
    "scrolled": false
   },
   "outputs": [],
   "source": [
    "'''\n",
    "SET UP THE SAMPLERS/// FITTING AND SAMPLING\n",
    "'''\n",
    "\n",
    "import random\n",
    "import graphlearn.abstract_graphs.RNA as rna\n",
    "from  graphlearn.feasibility import FeasibilityChecker as Checker\n",
    "from graphlearn.estimator import Wrapper as estimatorwrapper\n",
    "import graphlearn.utils.draw as draw\n",
    "from graphlearn.graphlearn import Sampler as GLS\n",
    "import itertools\n",
    "\n",
    "NJOBS=4\n",
    "def fit_sample(sequences, random_state=random.random()):\n",
    "    '''\n",
    "    in: sequence list.. \n",
    "    [(NAME,SEQUENCE),()... ] \n",
    "    \n",
    "    out: list of learned sequences\n",
    "    LEARNED [ (NAME,SEQUENCE),()... ]\n",
    "    '''\n",
    "    \n",
    "    # fit a sampler\n",
    "    sequences = list(sequences)\n",
    "    estimator=estimatorwrapper( nu=.5, cv=2, n_jobs=-1) # with .5 it also works for the fewer ones.. \n",
    "    sampler=rna.AbstractSampler(radius_list=[0], # war 0,1\n",
    "                                thickness_list=[2], # war 2 \n",
    "                                min_cip_count=1, \n",
    "                                min_interface_count=2, \n",
    "                                preprocessor=rna.PreProcessor(base_thickness_list=[1],ignore_inserts=True), \n",
    "                                postprocessor=rna.PostProcessor(),\n",
    "                                estimator=estimator\n",
    "                                #feasibility_checker=feasibility\n",
    "                               )\n",
    "    sampler.fit(sequences,grammar_n_jobs=NJOBS,grammar_batch_size=1)\n",
    "        \n",
    "    #logger.info('graph grammar stats:')\n",
    "    dataset_size, interface_counts, core_counts, cip_counts = sampler.grammar().size()\n",
    "    #logger.info('#instances:%d   #interfaces: %d   #cores: %d   #core-interface-pairs: %d' % (dataset_size, interface_counts, core_counts, cip_counts))\n",
    "    \n",
    "    sequences = [ b for a ,b in sequences  ]\n",
    "    sequences = sampler.sample(sequences,\n",
    "                            n_samples=3,\n",
    "                            batch_size=1,\n",
    "                            n_steps=50,\n",
    "                            n_jobs=NJOBS,\n",
    "                            quick_skip_orig_cip=True,\n",
    "                            probabilistic_core_choice=True,\n",
    "                            burnin=10,\n",
    "                            improving_threshold=0.4,\n",
    "                            improving_linear_start=0.1,\n",
    "                            max_size_diff=10,\n",
    "                            accept_min_similarity=0.6,\n",
    "                            select_cip_max_tries=30,\n",
    "                            keep_duplicates=False,\n",
    "                            include_seed=False,\n",
    "                            backtrack=2,\n",
    "                            monitor=False)\n",
    "    \n",
    "    result=[]\n",
    "    for li in sequences:\n",
    "        result+=li\n",
    "        \n",
    "    return [r[1] for r in result]    \n",
    "    '''    \n",
    "    r2=[]\n",
    "    for r in result:\n",
    "        r2.append(r[1])\n",
    "    \n",
    "    #print 'grgen result is rabun not was is documentedOo.',r2\n",
    "    return r2\n",
    "    '''\n"
   ]
  },
  {
   "cell_type": "code",
   "execution_count": 4,
   "metadata": {
    "collapsed": false,
    "scrolled": true
   },
   "outputs": [],
   "source": [
    "'''\n",
    "evaluation for one data-point\n",
    "'''\n",
    "import numpy as np\n",
    "def evaluate(repeats,size,fitsample):\n",
    "    print 'eval:',\n",
    "    means=[]\n",
    "    stds=[]\n",
    "    for i in range(repeats):\n",
    "        sequences=get_sequences_with_names(size=size, rand=10)\n",
    "        zz=fitsample(sequences)\n",
    "        #print zz[:3]\n",
    "        # z=[b for a ,b in zz]\n",
    "        result=rna.infernal_checker(zz,cmfile='../toolsdata/%s.cm' % RFAM, cmsearchbinarypath='../toolsdata/cmsearch')\n",
    "        \n",
    "        a = np.array(result)\n",
    "        means.append( np.mean(a, axis=0) )\n",
    "        stds.append( np.std(a, axis=0) )\n",
    "    \n",
    "    means.sort()\n",
    "    stds.sort()\n",
    "    print (size,means,stds)\n",
    "    return [means[repeats/2]*100,stds[repeats/2]*100]\n",
    "    \n"
   ]
  },
  {
   "cell_type": "code",
   "execution_count": 34,
   "metadata": {
    "collapsed": false
   },
   "outputs": [],
   "source": [
    "'''\n",
    "SETUP DRAWING OF RESULTS\n",
    "'''\n",
    "import numpy as np\n",
    "import matplotlib.pyplot as plt\n",
    "def make_two_bar_plot(labels=('G1', 'G2', 'G3', 'G4', 'G5'),means=[(20, 35),(20, 85)],stds=[(2, 3),(3, 3)]):\n",
    "    N = len(labels)\n",
    "    ind = np.arange(N) \n",
    "    width = 0.35\n",
    "    plt.figure(figsize=(14, 5))\n",
    "    \n",
    "    \n",
    "    fig, ax = plt.subplots()\n",
    "    #ax.ylim(0.0,100)\n",
    "    plt.ylim(0,100)\n",
    "    rects1 = ax.bar(ind, means[0], width, yerr=stds[0], color='#69ACEA',edgecolor='None',ecolor='#444444')\n",
    "    rects2 = ax.bar(ind + width, means[1], width, color='#8DDD82', yerr=stds[1], edgecolor='None',ecolor='#444444')\n",
    "    plt.axhline(y=38, color='black',linewidth=3)\n",
    "    # add some text for labels, title and axes ticks\n",
    "    ax.set_ylabel('something ylabel')\n",
    "    ax.set_title('title')\n",
    "    ax.set_xticks(ind + width)\n",
    "    ax.set_xticklabels(labels)\n",
    "    ax.legend((rects1[0], rects2[0]), ('advanced', 'regular'))\n",
    "    plt.show()\n",
    "\n",
    "    \n",
    "def make_inbetween_plot(labels=('G1', 'G2', 'G3', 'G4', 'G5'),means=[(20, 35),(20, 85)],stds=[(2, 3),(3, 3)]):\n",
    "    #N = len(labels)\n",
    "    #ind = np.arange(N) \n",
    "    #width = 0.35\n",
    "    plt.figure(figsize=(14, 5))\n",
    "    fig, ax = plt.subplots()\n",
    "    \n",
    "    for label in (ax.get_xticklabels() + ax.get_yticklabels()):\n",
    "        label.set_fontname('Arial')\n",
    "        label.set_fontsize(15)\n",
    "    \n",
    "    #ax.ylim(0.0,100)\n",
    "    plt.ylim(0,80)\n",
    "    plt.xlim(0,410)\n",
    "    #rects1 = ax.bar(ind, means[0], width, yerr=stds[0], color='#69ACEA',edgecolor='None',ecolor='#444444')\n",
    "    #rects2 = ax.bar(ind + width, means[1], width, color='#8DDD82', yerr=stds[1], edgecolor='None',ecolor='#444444')\n",
    "    plt.axhline(y=38, color='black',linewidth=3)\n",
    "    ax.fill_between(labels,means[0],means[1],facecolor='#fcfc88')\n",
    "    ax.errorbar(labels, means[0], yerr= stds[0], fmt='o')\n",
    "    ax.errorbar(labels, means[1], yerr= stds[1], fmt='x')\n",
    "    # add some text for labels, title and axes ticks\n",
    "    ax.set_ylabel('something ylabel',fontsize=18)\n",
    "    ax.set_xlabel('something xlabel',fontsize=18)\n",
    "    ax.set_title('title',fontsize=18)\n",
    "    #ax.set_xticks(ind + width)\n",
    "    #ax.set_xticklabels(labels)\n",
    "    #ax.legend((rects1[0], rects2[0]), ('advanced', 'regular'))\n",
    "    plt.show()\n",
    "    "
   ]
  },
  {
   "cell_type": "code",
   "execution_count": 35,
   "metadata": {
    "collapsed": false,
    "scrolled": false
   },
   "outputs": [
    {
     "name": "stdout",
     "output_type": "stream",
     "text": [
      "size = [10, 20, 50, 100, 200, 400]\n",
      "means = [56.725, 61.39310344827585, 56.91238095238095, 52.69766355140186, 47.822811059907835, 48.00770975056689]\n",
      "means2 = [11.473076923076924, 10.367272727272727, 14.535714285714288, 12.277238805970152, 13.774444444444445, 14.71313598519889]\n",
      "stds = [13.075456463481306, 12.05292727456074, 12.772826030571943, 14.369074946790544, 15.520753474342225, 14.701883300962383]\n",
      "stds2 = [15.433486320336051, 14.398291039456005, 16.261699399107673, 13.963606495020159, 14.96668739922383, 14.970472924155272]\n"
     ]
    },
    {
     "data": {
      "text/plain": [
       "<matplotlib.figure.Figure at 0x7f7ea0ebe590>"
      ]
     },
     "metadata": {},
     "output_type": "display_data"
    },
    {
     "data": {
      "image/png": "[encoded data removed]",
      "text/plain": [
       "<matplotlib.figure.Figure at 0x7f7e55570710>"
      ]
     },
     "metadata": {},
     "output_type": "display_data"
    },
    {
     "name": "stdout",
     "output_type": "stream",
     "text": [
      "CPU times: user 124 ms, sys: 0 ns, total: 124 ms\n",
      "Wall time: 125 ms\n"
     ]
    }
   ],
   "source": [
    "%%time\n",
    "\n",
    "# values for the real run  \n",
    "sizes=[10,20,50,100,200,400]\n",
    "repeats=5\n",
    "\n",
    "# values for a test-run\n",
    "#sizes=[10,20]\n",
    "#repeats=3\n",
    "\n",
    "\n",
    "if False:\n",
    "    means=[]\n",
    "    stds=[]\n",
    "    for size in sizes:\n",
    "        m,s=evaluate(repeats,size,fit_sample)\n",
    "        means.append(m)\n",
    "        stds.append(s)\n",
    "    means2=[]\n",
    "    stds2=[]\n",
    "    for size in sizes:\n",
    "        m,s=evaluate(repeats,size,fit_sample_noabstr)\n",
    "        means2.append(m)\n",
    "        stds2.append(s)\n",
    "else:\n",
    "    size =  [10, 20, 50, 100, 200, 400]\n",
    "    means = [56.725000000000001, 61.393103448275852, 56.91238095238095, 52.69766355140186, 47.822811059907835, 48.007709750566889]\n",
    "    means2 = [11.473076923076924, 10.367272727272727, 14.535714285714288, 12.277238805970152, 13.774444444444445, 14.713135985198891]\n",
    "    stds = [13.075456463481306, 12.052927274560741, 12.772826030571943, 14.369074946790544, 15.520753474342225, 14.701883300962383]\n",
    "    stds2 = [15.433486320336051, 14.398291039456005, 16.261699399107673, 13.963606495020159, 14.966687399223829, 14.970472924155272] \n",
    "    \n",
    "print 'size = %s' % str(sizes)\n",
    "print 'means = %s' % str(means)\n",
    "print 'means2 = %s' % str(means2)\n",
    "print 'stds = %s' % str(stds)\n",
    "print 'stds2 = %s' % str(stds2)\n",
    "\n",
    "make_inbetween_plot(sizes,[means,means2],[stds,stds2])\n"
   ]
  },
  {
   "cell_type": "code",
   "execution_count": null,
   "metadata": {
    "collapsed": true
   },
   "outputs": [],
   "source": [
    "\n",
    "\n",
    "\n"
   ]
  },
  {
   "cell_type": "markdown",
   "metadata": {
    "collapsed": true
   },
   "source": [
    "---"
   ]
  },
  {
   "cell_type": "code",
   "execution_count": null,
   "metadata": {
    "collapsed": true
   },
   "outputs": [],
   "source": []
  },
  {
   "cell_type": "code",
   "execution_count": null,
   "metadata": {
    "collapsed": true
   },
   "outputs": [],
   "source": []
  },
  {
   "cell_type": "code",
   "execution_count": null,
   "metadata": {
    "collapsed": true
   },
   "outputs": [],
   "source": []
  },
  {
   "cell_type": "code",
   "execution_count": null,
   "metadata": {
    "collapsed": true
   },
   "outputs": [],
   "source": []
  },
  {
   "cell_type": "code",
   "execution_count": 7,
   "metadata": {
    "collapsed": false
   },
   "outputs": [],
   "source": [
    "\n",
    "def make_bar_plot(labels=('G1', 'G2', 'G3', 'G4', 'G5'),means=(20, 35, 30, 35, 27),stds=(2, 3, 4, 1, 2)):\n",
    "    N = len(labels)\n",
    "    ind = np.arange(N) \n",
    "    width = .5 #0.35\n",
    "    plt.figure(figsize=(14, 5))\n",
    "    ax = plt.subplot() \n",
    "    for label in (ax.get_xticklabels() + ax.get_yticklabels()):\n",
    "        label.set_fontname('Arial')\n",
    "        label.set_fontsize(18)\n",
    "        \n",
    "    p1 = plt.bar(ind, means, width, color='#69ACEA', yerr=stds,edgecolor='None',ecolor='#444444')\n",
    "    #p2 = plt.bar(ind, means, width, color='#8DDD82', yerr=stds,edgecolor='None',ecolor='#444444')\n",
    "    \n",
    "    plt.axhline(y=38, color='black',linewidth=3)\n",
    "    plt.ylabel(\"log odds score\",fontsize=20)\n",
    "    plt.xlabel(\"number of graphs\",fontsize=20)\n",
    "    #plt.xlabel(\"number of graphs\",fontsize=20)\n",
    "    plt.title('Scores by training size',fontsize=20)\n",
    "    plt.xticks(ind + width/2, labels )\n",
    "    plt.yticks(np.arange(0, 100, 10))\n",
    "    plt.show()"
   ]
  },
  {
   "cell_type": "code",
   "execution_count": 8,
   "metadata": {
    "collapsed": false
   },
   "outputs": [
    {
     "name": "stdout",
     "output_type": "stream",
     "text": [
      "size: [10, 20]\n",
      "means: [61.46, 62.02894736842106]\n",
      "stds: [14.641120175724259, 12.33487141134333]\n"
     ]
    },
    {
     "name": "stderr",
     "output_type": "stream",
     "text": [
      "/home/ikea/.local/lib/python2.7/site-packages/matplotlib/font_manager.py:1288: UserWarning: findfont: Font family [u'Arial'] not found. Falling back to Bitstream Vera Sans\n",
      "  (prop.get_family(), self.defaultFamily[fontext]))\n"
     ]
    },
    {
     "data": {
      "image/png": "[encoded data removed]",
      "text/plain": [
       "<matplotlib.figure.Figure at 0x7f187ae7a450>"
      ]
     },
     "metadata": {},
     "output_type": "display_data"
    }
   ],
   "source": [
    "sizes=[10,20,50,100,200,400]\n",
    "repeats=5\n",
    "\n",
    "\n",
    "sizes=[10,20]\n",
    "repeats=3\n",
    "means = [61.460000000000001, 62.028947368421058]\n",
    "stds = [14.641120175724259, 12.334871411343331]\n",
    "\n",
    "\n",
    "\n",
    "if False:\n",
    "    means=[]\n",
    "    stds=[]\n",
    "    for size in sizes:\n",
    "        m,s=evaluate(repeats,size,fit_sample_noabstr)\n",
    "        means.append(m)\n",
    "        stds.append(s)\n",
    " \n",
    "    \n",
    "print 'size: ' + str(sizes)\n",
    "print 'means: ' + str(means)\n",
    "print 'stds: ' + str(stds)\n",
    "\n",
    "make_bar_plot(sizes,means,stds)"
   ]
  },
  {
   "cell_type": "code",
   "execution_count": 9,
   "metadata": {
    "collapsed": false
   },
   "outputs": [
    {
     "ename": "SyntaxError",
     "evalue": "invalid syntax (<ipython-input-9-6b2d0269b937>, line 1)",
     "output_type": "error",
     "traceback": [
      "\u001b[0;36m  File \u001b[0;32m\"<ipython-input-9-6b2d0269b937>\"\u001b[0;36m, line \u001b[0;32m1\u001b[0m\n\u001b[0;31m    eval: (10, [0.47671428571428581, 0.56468421052631579, 0.56725000000000003, 0.61272222222222217, 0.63346666666666673], [0.087741185058987883, 0.1148885284143671, 0.13075456463481305, 0.13979069175020201, 0.14890813494588273])\u001b[0m\n\u001b[0m        ^\u001b[0m\n\u001b[0;31mSyntaxError\u001b[0m\u001b[0;31m:\u001b[0m invalid syntax\n"
     ]
    }
   ],
   "source": [
    "eval: (10, [0.47671428571428581, 0.56468421052631579, 0.56725000000000003, 0.61272222222222217, 0.63346666666666673], [0.087741185058987883, 0.1148885284143671, 0.13075456463481305, 0.13979069175020201, 0.14890813494588273])\n",
    "eval: (20, [0.58005405405405408, 0.59226470588235292, 0.61393103448275854, 0.61724242424242437, 0.62183870967741939], [0.096020534387729728, 0.11572722115101169, 0.1205292727456074, 0.12790825764010944, 0.13438866129155772])\n",
    "eval: (50, [0.54162745098039211, 0.54860194174757282, 0.56912380952380948, 0.57736697247706414, 0.57792035398230079], [0.11938916373596815, 0.12429549436064462, 0.12772826030571943, 0.13639338446154581, 0.13867285941371943])\n",
    "eval: (100, [0.51904830917874401, 0.52152232142857147, 0.52697663551401863, 0.53054424778761067, 0.53335714285714286], [0.13731877486463845, 0.14214535215573679, 0.14369074946790544, 0.14668797812080603, 0.14967854782299253])\n",
    "eval: (200, [0.47011832946635734, 0.47532242990654205, 0.47822811059907833, 0.48037413394919171, 0.4850552884615385], [0.14088850720487028, 0.15352157071392081, 0.15520753474342225, 0.15607232727227877, 0.15826147242696156])\n",
    "eval: (400, [0.47653101196953213, 0.47951224944320708, 0.4800770975056689, 0.48165380374862182, 0.49247469066366706], [0.14048955624797857, 0.14646869804046603, 0.14701883300962382, 0.15099651305453449, 0.15562144005479273])\n",
    "eval: (10, [0.079250000000000001, 0.11448148148148149, 0.11473076923076923, 0.14250000000000002, 0.1428888888888889], [0.12242252108431297, 0.1427461845874898, 0.15433486320336051, 0.15554405601233426, 0.16513144782786954])\n",
    "eval: (20, [0.095771929824561411, 0.096145454545454548, 0.10367272727272728, 0.12221052631578948, 0.13579245283018868], [0.13486712898011449, 0.13660734101736521, 0.14398291039456004, 0.15084746243862474, 0.15187483507103713])\n",
    "eval: (50, [0.10691304347826087, 0.1121376811594203, 0.14535714285714288, 0.16431428571428572, 0.18674100719424461], [0.13688059316933654, 0.15449807428230883, 0.16261699399107674, 0.16806881676066768, 0.16869533339782722])\n",
    "eval: (100, [0.10714539007092198, 0.11364179104477612, 0.12277238805970152, 0.12562043795620439, 0.13200000000000001], [0.13642713910990836, 0.13805162905000187, 0.13963606495020159, 0.14787067155537459, 0.15147735401494919])\n",
    "eval: (200, [0.13589053803339518, 0.13676979742173112, 0.13774444444444445, 0.14717981651376147, 0.14968073394495413], [0.1448616198130967, 0.14959512100870487, 0.1496668739922383, 0.15120135208228183, 0.15136387805631474])\n",
    "eval:\n",
    "/usr/local/lib/python2.7/dist-packages/sklearn/calibration.py:414: RuntimeWarning: overflow encountered in exp\n",
    "  E = np.exp(AB[0] * F + AB[1])\n",
    "/usr/local/lib/python2.7/dist-packages/sklearn/calibration.py:424: RuntimeWarning: overflow encountered in exp\n",
    "  E = np.exp(AB[0] * F + AB[1])\n",
    "/usr/local/lib/python2.7/dist-packages/sklearn/calibration.py:426: RuntimeWarning: invalid value encountered in multiply\n",
    "  TEP_minus_T1P = P * (T * E - T1)\n",
    " (400, [0.13622109158186863, 0.14302209944751382, 0.14713135985198891, 0.14926122823098076, 0.16016007532956689], [0.14791899471690001, 0.14945693292814677, 0.14970472924155273, 0.15074901750247138, 0.15105917691823201])\n",
    "size: [10, 20, 50, 100, 200, 400]\n",
    "means: [56.725000000000001, 61.393103448275852, 56.91238095238095, 52.69766355140186, 47.822811059907835, 48.007709750566889][11.473076923076924, 10.367272727272727, 14.535714285714288, 12.277238805970152, 13.774444444444445, 14.713135985198891]\n",
    "stds: [13.075456463481306, 12.052927274560741, 12.772826030571943, 14.369074946790544, 15.520753474342225, 14.701883300962383][15.433486320336051, 14.398291039456005, 16.261699399107673, 13.963606495020159, 14.966687399223829, 14.970472924155272]"
   ]
  },
  {
   "cell_type": "code",
   "execution_count": null,
   "metadata": {
    "collapsed": true
   },
   "outputs": [],
   "source": []
  }
 ],
 "metadata": {
  "kernelspec": {
   "display_name": "Python 2",
   "language": "python",
   "name": "python2"
  },
  "language_info": {
   "codemirror_mode": {
    "name": "ipython",
    "version": 2
   },
   "file_extension": ".py",
   "mimetype": "text/x-python",
   "name": "python",
   "nbconvert_exporter": "python",
   "pygments_lexer": "ipython2",
   "version": "2.7.12"
  }
 },
 "nbformat": 4,
 "nbformat_minor": 0
}
